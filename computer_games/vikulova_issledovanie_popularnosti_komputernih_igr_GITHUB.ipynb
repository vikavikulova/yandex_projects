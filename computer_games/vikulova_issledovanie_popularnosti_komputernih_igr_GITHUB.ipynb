{
 "cells": [
  {
   "cell_type": "markdown",
   "metadata": {},
   "source": [
    "# Исследование популярности компьютерных игр"
   ]
  },
  {
   "cell_type": "markdown",
   "metadata": {},
   "source": [
    "В исследовании для интернет-магазина «Стримчик» нам необходимо выявить закономерности, которые определяют успешность компьютерной игры. Это позволит сделать ставку на потенциально популярный продукт и спланировать рекламные кампании на 2017 год. В нашем распоряжении данные из открытых источников до 2016 года: как продавались игры в разные годы, оценки пользователей и экспертов, жанры и платформы. "
   ]
  },
  {
   "cell_type": "markdown",
   "metadata": {},
   "source": [
    "## Открытие данных"
   ]
  },
  {
   "cell_type": "markdown",
   "metadata": {},
   "source": [
    "Импортируем все необходимые нам для работы библиотеки и загрузим таблицу с данными об играх, сохраним ее в переменной `df`."
   ]
  },
  {
   "cell_type": "code",
   "execution_count": 1,
   "metadata": {},
   "outputs": [],
   "source": [
    "import pandas as pd\n",
    "import matplotlib.pyplot as plt\n",
    "from scipy import stats as st\n",
    "from scipy.stats import levene\n",
    "import numpy as np"
   ]
  },
  {
   "cell_type": "code",
   "execution_count": 2,
   "metadata": {},
   "outputs": [
    {
     "data": {
      "text/html": [
       "<div>\n",
       "<style scoped>\n",
       "    .dataframe tbody tr th:only-of-type {\n",
       "        vertical-align: middle;\n",
       "    }\n",
       "\n",
       "    .dataframe tbody tr th {\n",
       "        vertical-align: top;\n",
       "    }\n",
       "\n",
       "    .dataframe thead th {\n",
       "        text-align: right;\n",
       "    }\n",
       "</style>\n",
       "<table border=\"1\" class=\"dataframe\">\n",
       "  <thead>\n",
       "    <tr style=\"text-align: right;\">\n",
       "      <th></th>\n",
       "      <th>Name</th>\n",
       "      <th>Platform</th>\n",
       "      <th>Year_of_Release</th>\n",
       "      <th>Genre</th>\n",
       "      <th>NA_sales</th>\n",
       "      <th>EU_sales</th>\n",
       "      <th>JP_sales</th>\n",
       "      <th>Other_sales</th>\n",
       "      <th>Critic_Score</th>\n",
       "      <th>User_Score</th>\n",
       "      <th>Rating</th>\n",
       "    </tr>\n",
       "  </thead>\n",
       "  <tbody>\n",
       "    <tr>\n",
       "      <td>14230</td>\n",
       "      <td>Rakushou! Pachi-Slot Sengen 5: Rio Paradise</td>\n",
       "      <td>PS2</td>\n",
       "      <td>2007.0</td>\n",
       "      <td>Misc</td>\n",
       "      <td>0.00</td>\n",
       "      <td>0.00</td>\n",
       "      <td>0.03</td>\n",
       "      <td>0.00</td>\n",
       "      <td>NaN</td>\n",
       "      <td>NaN</td>\n",
       "      <td>NaN</td>\n",
       "    </tr>\n",
       "    <tr>\n",
       "      <td>14043</td>\n",
       "      <td>Nobunaga's Ambition II</td>\n",
       "      <td>3DS</td>\n",
       "      <td>2015.0</td>\n",
       "      <td>Strategy</td>\n",
       "      <td>0.00</td>\n",
       "      <td>0.00</td>\n",
       "      <td>0.04</td>\n",
       "      <td>0.00</td>\n",
       "      <td>NaN</td>\n",
       "      <td>NaN</td>\n",
       "      <td>NaN</td>\n",
       "    </tr>\n",
       "    <tr>\n",
       "      <td>3158</td>\n",
       "      <td>Up</td>\n",
       "      <td>DS</td>\n",
       "      <td>2009.0</td>\n",
       "      <td>Action</td>\n",
       "      <td>0.30</td>\n",
       "      <td>0.27</td>\n",
       "      <td>0.00</td>\n",
       "      <td>0.07</td>\n",
       "      <td>NaN</td>\n",
       "      <td>tbd</td>\n",
       "      <td>E</td>\n",
       "    </tr>\n",
       "    <tr>\n",
       "      <td>22</td>\n",
       "      <td>Super Mario Bros. 3</td>\n",
       "      <td>NES</td>\n",
       "      <td>1988.0</td>\n",
       "      <td>Platform</td>\n",
       "      <td>9.54</td>\n",
       "      <td>3.44</td>\n",
       "      <td>3.84</td>\n",
       "      <td>0.46</td>\n",
       "      <td>NaN</td>\n",
       "      <td>NaN</td>\n",
       "      <td>NaN</td>\n",
       "    </tr>\n",
       "    <tr>\n",
       "      <td>110</td>\n",
       "      <td>Mario Kart 8</td>\n",
       "      <td>WiiU</td>\n",
       "      <td>2014.0</td>\n",
       "      <td>Racing</td>\n",
       "      <td>3.15</td>\n",
       "      <td>2.15</td>\n",
       "      <td>1.28</td>\n",
       "      <td>0.51</td>\n",
       "      <td>88.0</td>\n",
       "      <td>9.1</td>\n",
       "      <td>E</td>\n",
       "    </tr>\n",
       "    <tr>\n",
       "      <td>1988</td>\n",
       "      <td>ATV: Quad Power Racing</td>\n",
       "      <td>PS</td>\n",
       "      <td>2000.0</td>\n",
       "      <td>Racing</td>\n",
       "      <td>0.58</td>\n",
       "      <td>0.39</td>\n",
       "      <td>0.00</td>\n",
       "      <td>0.07</td>\n",
       "      <td>42.0</td>\n",
       "      <td>tbd</td>\n",
       "      <td>E</td>\n",
       "    </tr>\n",
       "    <tr>\n",
       "      <td>7130</td>\n",
       "      <td>64 de Hakken! Tamagotchi Minna de Tamagotchi W...</td>\n",
       "      <td>N64</td>\n",
       "      <td>1997.0</td>\n",
       "      <td>Misc</td>\n",
       "      <td>0.00</td>\n",
       "      <td>0.00</td>\n",
       "      <td>0.22</td>\n",
       "      <td>0.00</td>\n",
       "      <td>NaN</td>\n",
       "      <td>NaN</td>\n",
       "      <td>NaN</td>\n",
       "    </tr>\n",
       "    <tr>\n",
       "      <td>8849</td>\n",
       "      <td>Derby Stallion 64</td>\n",
       "      <td>N64</td>\n",
       "      <td>2001.0</td>\n",
       "      <td>Sports</td>\n",
       "      <td>0.00</td>\n",
       "      <td>0.00</td>\n",
       "      <td>0.15</td>\n",
       "      <td>0.00</td>\n",
       "      <td>NaN</td>\n",
       "      <td>NaN</td>\n",
       "      <td>NaN</td>\n",
       "    </tr>\n",
       "    <tr>\n",
       "      <td>14602</td>\n",
       "      <td>Star Wars: The Force Unleashed II</td>\n",
       "      <td>PC</td>\n",
       "      <td>2010.0</td>\n",
       "      <td>Action</td>\n",
       "      <td>0.03</td>\n",
       "      <td>0.00</td>\n",
       "      <td>0.00</td>\n",
       "      <td>0.00</td>\n",
       "      <td>59.0</td>\n",
       "      <td>5.8</td>\n",
       "      <td>T</td>\n",
       "    </tr>\n",
       "    <tr>\n",
       "      <td>106</td>\n",
       "      <td>Tekken 3</td>\n",
       "      <td>PS</td>\n",
       "      <td>1998.0</td>\n",
       "      <td>Fighting</td>\n",
       "      <td>3.27</td>\n",
       "      <td>2.22</td>\n",
       "      <td>1.40</td>\n",
       "      <td>0.29</td>\n",
       "      <td>96.0</td>\n",
       "      <td>9.1</td>\n",
       "      <td>T</td>\n",
       "    </tr>\n",
       "    <tr>\n",
       "      <td>6113</td>\n",
       "      <td>Divinity: Original Sin</td>\n",
       "      <td>PS4</td>\n",
       "      <td>2015.0</td>\n",
       "      <td>Role-Playing</td>\n",
       "      <td>0.10</td>\n",
       "      <td>0.12</td>\n",
       "      <td>0.02</td>\n",
       "      <td>0.04</td>\n",
       "      <td>NaN</td>\n",
       "      <td>NaN</td>\n",
       "      <td>NaN</td>\n",
       "    </tr>\n",
       "    <tr>\n",
       "      <td>3270</td>\n",
       "      <td>NieR</td>\n",
       "      <td>PS3</td>\n",
       "      <td>2010.0</td>\n",
       "      <td>Role-Playing</td>\n",
       "      <td>0.17</td>\n",
       "      <td>0.18</td>\n",
       "      <td>0.20</td>\n",
       "      <td>0.07</td>\n",
       "      <td>68.0</td>\n",
       "      <td>8.4</td>\n",
       "      <td>M</td>\n",
       "    </tr>\n",
       "    <tr>\n",
       "      <td>14860</td>\n",
       "      <td>Under the Skin</td>\n",
       "      <td>PS2</td>\n",
       "      <td>2004.0</td>\n",
       "      <td>Action</td>\n",
       "      <td>0.01</td>\n",
       "      <td>0.01</td>\n",
       "      <td>0.00</td>\n",
       "      <td>0.00</td>\n",
       "      <td>55.0</td>\n",
       "      <td>tbd</td>\n",
       "      <td>T</td>\n",
       "    </tr>\n",
       "    <tr>\n",
       "      <td>7239</td>\n",
       "      <td>NBA Live 09 All-Play</td>\n",
       "      <td>Wii</td>\n",
       "      <td>2008.0</td>\n",
       "      <td>Sports</td>\n",
       "      <td>0.19</td>\n",
       "      <td>0.01</td>\n",
       "      <td>0.00</td>\n",
       "      <td>0.02</td>\n",
       "      <td>51.0</td>\n",
       "      <td>5.9</td>\n",
       "      <td>E</td>\n",
       "    </tr>\n",
       "    <tr>\n",
       "      <td>13248</td>\n",
       "      <td>Spitfire Heroes: Tales of the Royal Air Force</td>\n",
       "      <td>DS</td>\n",
       "      <td>2008.0</td>\n",
       "      <td>Simulation</td>\n",
       "      <td>0.05</td>\n",
       "      <td>0.00</td>\n",
       "      <td>0.00</td>\n",
       "      <td>0.00</td>\n",
       "      <td>49.0</td>\n",
       "      <td>tbd</td>\n",
       "      <td>E10+</td>\n",
       "    </tr>\n",
       "    <tr>\n",
       "      <td>4941</td>\n",
       "      <td>Tom Clancy's Ghost Recon 2: Summit Strike</td>\n",
       "      <td>XB</td>\n",
       "      <td>2005.0</td>\n",
       "      <td>Shooter</td>\n",
       "      <td>0.29</td>\n",
       "      <td>0.08</td>\n",
       "      <td>0.00</td>\n",
       "      <td>0.01</td>\n",
       "      <td>84.0</td>\n",
       "      <td>7.2</td>\n",
       "      <td>T</td>\n",
       "    </tr>\n",
       "    <tr>\n",
       "      <td>5997</td>\n",
       "      <td>TouchMaster: Connect</td>\n",
       "      <td>DS</td>\n",
       "      <td>2010.0</td>\n",
       "      <td>Puzzle</td>\n",
       "      <td>0.10</td>\n",
       "      <td>0.16</td>\n",
       "      <td>0.00</td>\n",
       "      <td>0.03</td>\n",
       "      <td>NaN</td>\n",
       "      <td>tbd</td>\n",
       "      <td>E</td>\n",
       "    </tr>\n",
       "    <tr>\n",
       "      <td>13866</td>\n",
       "      <td>Ookami to Koushinryou: Boku to Horo no Ichinen</td>\n",
       "      <td>DS</td>\n",
       "      <td>2008.0</td>\n",
       "      <td>Adventure</td>\n",
       "      <td>0.00</td>\n",
       "      <td>0.00</td>\n",
       "      <td>0.04</td>\n",
       "      <td>0.00</td>\n",
       "      <td>NaN</td>\n",
       "      <td>NaN</td>\n",
       "      <td>NaN</td>\n",
       "    </tr>\n",
       "    <tr>\n",
       "      <td>14530</td>\n",
       "      <td>DokiDoki Majo Shinpan! 2</td>\n",
       "      <td>DS</td>\n",
       "      <td>2008.0</td>\n",
       "      <td>Adventure</td>\n",
       "      <td>0.00</td>\n",
       "      <td>0.00</td>\n",
       "      <td>0.03</td>\n",
       "      <td>0.00</td>\n",
       "      <td>NaN</td>\n",
       "      <td>NaN</td>\n",
       "      <td>NaN</td>\n",
       "    </tr>\n",
       "    <tr>\n",
       "      <td>4634</td>\n",
       "      <td>Spec Ops: The Line</td>\n",
       "      <td>X360</td>\n",
       "      <td>2012.0</td>\n",
       "      <td>Shooter</td>\n",
       "      <td>0.21</td>\n",
       "      <td>0.17</td>\n",
       "      <td>0.00</td>\n",
       "      <td>0.04</td>\n",
       "      <td>76.0</td>\n",
       "      <td>8.2</td>\n",
       "      <td>M</td>\n",
       "    </tr>\n",
       "  </tbody>\n",
       "</table>\n",
       "</div>"
      ],
      "text/plain": [
       "                                                    Name Platform  \\\n",
       "14230        Rakushou! Pachi-Slot Sengen 5: Rio Paradise      PS2   \n",
       "14043                             Nobunaga's Ambition II      3DS   \n",
       "3158                                                  Up       DS   \n",
       "22                                   Super Mario Bros. 3      NES   \n",
       "110                                         Mario Kart 8     WiiU   \n",
       "1988                              ATV: Quad Power Racing       PS   \n",
       "7130   64 de Hakken! Tamagotchi Minna de Tamagotchi W...      N64   \n",
       "8849                                   Derby Stallion 64      N64   \n",
       "14602                  Star Wars: The Force Unleashed II       PC   \n",
       "106                                             Tekken 3       PS   \n",
       "6113                              Divinity: Original Sin      PS4   \n",
       "3270                                                NieR      PS3   \n",
       "14860                                     Under the Skin      PS2   \n",
       "7239                                NBA Live 09 All-Play      Wii   \n",
       "13248      Spitfire Heroes: Tales of the Royal Air Force       DS   \n",
       "4941           Tom Clancy's Ghost Recon 2: Summit Strike       XB   \n",
       "5997                                TouchMaster: Connect       DS   \n",
       "13866     Ookami to Koushinryou: Boku to Horo no Ichinen       DS   \n",
       "14530                           DokiDoki Majo Shinpan! 2       DS   \n",
       "4634                                  Spec Ops: The Line     X360   \n",
       "\n",
       "       Year_of_Release         Genre  NA_sales  EU_sales  JP_sales  \\\n",
       "14230           2007.0          Misc      0.00      0.00      0.03   \n",
       "14043           2015.0      Strategy      0.00      0.00      0.04   \n",
       "3158            2009.0        Action      0.30      0.27      0.00   \n",
       "22              1988.0      Platform      9.54      3.44      3.84   \n",
       "110             2014.0        Racing      3.15      2.15      1.28   \n",
       "1988            2000.0        Racing      0.58      0.39      0.00   \n",
       "7130            1997.0          Misc      0.00      0.00      0.22   \n",
       "8849            2001.0        Sports      0.00      0.00      0.15   \n",
       "14602           2010.0        Action      0.03      0.00      0.00   \n",
       "106             1998.0      Fighting      3.27      2.22      1.40   \n",
       "6113            2015.0  Role-Playing      0.10      0.12      0.02   \n",
       "3270            2010.0  Role-Playing      0.17      0.18      0.20   \n",
       "14860           2004.0        Action      0.01      0.01      0.00   \n",
       "7239            2008.0        Sports      0.19      0.01      0.00   \n",
       "13248           2008.0    Simulation      0.05      0.00      0.00   \n",
       "4941            2005.0       Shooter      0.29      0.08      0.00   \n",
       "5997            2010.0        Puzzle      0.10      0.16      0.00   \n",
       "13866           2008.0     Adventure      0.00      0.00      0.04   \n",
       "14530           2008.0     Adventure      0.00      0.00      0.03   \n",
       "4634            2012.0       Shooter      0.21      0.17      0.00   \n",
       "\n",
       "       Other_sales  Critic_Score User_Score Rating  \n",
       "14230         0.00           NaN        NaN    NaN  \n",
       "14043         0.00           NaN        NaN    NaN  \n",
       "3158          0.07           NaN        tbd      E  \n",
       "22            0.46           NaN        NaN    NaN  \n",
       "110           0.51          88.0        9.1      E  \n",
       "1988          0.07          42.0        tbd      E  \n",
       "7130          0.00           NaN        NaN    NaN  \n",
       "8849          0.00           NaN        NaN    NaN  \n",
       "14602         0.00          59.0        5.8      T  \n",
       "106           0.29          96.0        9.1      T  \n",
       "6113          0.04           NaN        NaN    NaN  \n",
       "3270          0.07          68.0        8.4      M  \n",
       "14860         0.00          55.0        tbd      T  \n",
       "7239          0.02          51.0        5.9      E  \n",
       "13248         0.00          49.0        tbd   E10+  \n",
       "4941          0.01          84.0        7.2      T  \n",
       "5997          0.03           NaN        tbd      E  \n",
       "13866         0.00           NaN        NaN    NaN  \n",
       "14530         0.00           NaN        NaN    NaN  \n",
       "4634          0.04          76.0        8.2      M  "
      ]
     },
     "execution_count": 2,
     "metadata": {},
     "output_type": "execute_result"
    }
   ],
   "source": [
    "df = pd.read_csv('/datasets/games.csv')\n",
    "df.sample(20, random_state=1)"
   ]
  },
  {
   "cell_type": "markdown",
   "metadata": {},
   "source": [
    "Рассмотрим подробнее каждый столбец:\n",
    "\n",
    "* `Name` — название игры\n",
    "* `Platform` — платформа\n",
    "* `Year_of_Release` — год выпуска\n",
    "* `Genre` — жанр игры\n",
    "* `NA_sales` — продажи в Северной Америке (миллионы проданных копий)\n",
    "* `EU_sales` — продажи в Европе (миллионы проданных копий)\n",
    "* `JP_sales` — продажи в Японии (миллионы проданных копий)\n",
    "* `Other_sales` — продажи в других странах (миллионы проданных копий)\n",
    "* `Critic_Score` — оценка критиков (максимум 100)\n",
    "* `User_Score` — оценка пользователей (максимум 10)\n",
    "* `Rating` — рейтинг от организации ESRB (англ. Entertainment Software Rating Board). Эта ассоциация определяет рейтинг компьютерных игр и присваивает им подходящую возрастную категорию:\n",
    "\n",
    "Получим основную информацию о типах данных и количестве пропусков:"
   ]
  },
  {
   "cell_type": "code",
   "execution_count": 3,
   "metadata": {},
   "outputs": [
    {
     "name": "stdout",
     "output_type": "stream",
     "text": [
      "<class 'pandas.core.frame.DataFrame'>\n",
      "RangeIndex: 16715 entries, 0 to 16714\n",
      "Data columns (total 11 columns):\n",
      "Name               16713 non-null object\n",
      "Platform           16715 non-null object\n",
      "Year_of_Release    16446 non-null float64\n",
      "Genre              16713 non-null object\n",
      "NA_sales           16715 non-null float64\n",
      "EU_sales           16715 non-null float64\n",
      "JP_sales           16715 non-null float64\n",
      "Other_sales        16715 non-null float64\n",
      "Critic_Score       8137 non-null float64\n",
      "User_Score         10014 non-null object\n",
      "Rating             9949 non-null object\n",
      "dtypes: float64(6), object(5)\n",
      "memory usage: 1.4+ MB\n"
     ]
    }
   ],
   "source": [
    "df.info()"
   ]
  },
  {
   "cell_type": "markdown",
   "metadata": {},
   "source": [
    "В таблице 5 столбцов с типом `object` и 6 столбцов с числовыми данными, тип `float64`. Заметили по два пропущенных значения в столбцах с названием игры и жанром. Больше пропусков в столбцах с годом выпуска, оценками пользователей и критиков и рейтингом ESRB. Также обратили внимание, что столбец с оценками экспертов имеет числовой тип данных, а с оценками пользователей — `object`. \n",
    "\n",
    "**Вывод**\n",
    "\n",
    "Получили таблицу с основными характеристиками компьютерных игр. В ней обнаружили гораздо больше данных по играм, выпущенным в 2000-е годы. Обратили внимание, что в таблице не так много игр, число проданных копий которых превышает миллион. Заметили, что в столбце `User_score` есть значение *tbd* (To Be Determined). Обычно это означает, что в данный момент рецензий от пользователей недостаточно, и как только наберется их нужное количество — сайт опубликует оценку. Это объясняет, почему в этом столбце тип данных — `object`. Также обнаружили, что в столбцах с оценками пользователей и критиков и рейтингом ESRB большое количество данных вовсе пропущено. "
   ]
  },
  {
   "cell_type": "markdown",
   "metadata": {},
   "source": [
    "## Предобработка данных"
   ]
  },
  {
   "cell_type": "markdown",
   "metadata": {},
   "source": [
    "Нам необходимо подготовить данные для анализа: обработать пропущенные данные в таблице, в некоторых столбцах нужно исправить тип данных, а также для удобства работы переименовать столбцы в таблице."
   ]
  },
  {
   "cell_type": "markdown",
   "metadata": {},
   "source": [
    "### Замена названий столбцов"
   ]
  },
  {
   "cell_type": "markdown",
   "metadata": {},
   "source": [
    "Сейчас названия столбцов записаны в неудобном для работы формате: в них встречаются прописные буквы. Запишем все столбцы в нижнем регистре. Также для удобства заменим `year_of_release` на `year`:"
   ]
  },
  {
   "cell_type": "code",
   "execution_count": 4,
   "metadata": {},
   "outputs": [
    {
     "data": {
      "text/html": [
       "<div>\n",
       "<style scoped>\n",
       "    .dataframe tbody tr th:only-of-type {\n",
       "        vertical-align: middle;\n",
       "    }\n",
       "\n",
       "    .dataframe tbody tr th {\n",
       "        vertical-align: top;\n",
       "    }\n",
       "\n",
       "    .dataframe thead th {\n",
       "        text-align: right;\n",
       "    }\n",
       "</style>\n",
       "<table border=\"1\" class=\"dataframe\">\n",
       "  <thead>\n",
       "    <tr style=\"text-align: right;\">\n",
       "      <th></th>\n",
       "      <th>name</th>\n",
       "      <th>platform</th>\n",
       "      <th>year</th>\n",
       "      <th>genre</th>\n",
       "      <th>na_sales</th>\n",
       "      <th>eu_sales</th>\n",
       "      <th>jp_sales</th>\n",
       "      <th>other_sales</th>\n",
       "      <th>critic_score</th>\n",
       "      <th>user_score</th>\n",
       "      <th>rating</th>\n",
       "    </tr>\n",
       "  </thead>\n",
       "  <tbody>\n",
       "    <tr>\n",
       "      <td>5444</td>\n",
       "      <td>NHL 17</td>\n",
       "      <td>PS4</td>\n",
       "      <td>2016.0</td>\n",
       "      <td>Sports</td>\n",
       "      <td>0.19</td>\n",
       "      <td>0.08</td>\n",
       "      <td>0.00</td>\n",
       "      <td>0.06</td>\n",
       "      <td>78.0</td>\n",
       "      <td>5.8</td>\n",
       "      <td>E10+</td>\n",
       "    </tr>\n",
       "    <tr>\n",
       "      <td>12424</td>\n",
       "      <td>My Pet Chimp</td>\n",
       "      <td>DS</td>\n",
       "      <td>2010.0</td>\n",
       "      <td>Simulation</td>\n",
       "      <td>0.06</td>\n",
       "      <td>0.00</td>\n",
       "      <td>0.00</td>\n",
       "      <td>0.00</td>\n",
       "      <td>NaN</td>\n",
       "      <td>tbd</td>\n",
       "      <td>E</td>\n",
       "    </tr>\n",
       "    <tr>\n",
       "      <td>4308</td>\n",
       "      <td>Star Wars Jedi Knight: Jedi Academy</td>\n",
       "      <td>XB</td>\n",
       "      <td>2003.0</td>\n",
       "      <td>Shooter</td>\n",
       "      <td>0.34</td>\n",
       "      <td>0.10</td>\n",
       "      <td>0.00</td>\n",
       "      <td>0.02</td>\n",
       "      <td>76.0</td>\n",
       "      <td>8.7</td>\n",
       "      <td>T</td>\n",
       "    </tr>\n",
       "    <tr>\n",
       "      <td>12916</td>\n",
       "      <td>Famicom Mini: Dig Dug</td>\n",
       "      <td>GBA</td>\n",
       "      <td>2004.0</td>\n",
       "      <td>Puzzle</td>\n",
       "      <td>0.00</td>\n",
       "      <td>0.00</td>\n",
       "      <td>0.05</td>\n",
       "      <td>0.00</td>\n",
       "      <td>NaN</td>\n",
       "      <td>NaN</td>\n",
       "      <td>NaN</td>\n",
       "    </tr>\n",
       "    <tr>\n",
       "      <td>5860</td>\n",
       "      <td>The King of Fighters XIII</td>\n",
       "      <td>PS3</td>\n",
       "      <td>2011.0</td>\n",
       "      <td>Fighting</td>\n",
       "      <td>0.17</td>\n",
       "      <td>0.06</td>\n",
       "      <td>0.04</td>\n",
       "      <td>0.03</td>\n",
       "      <td>77.0</td>\n",
       "      <td>8.2</td>\n",
       "      <td>T</td>\n",
       "    </tr>\n",
       "  </tbody>\n",
       "</table>\n",
       "</div>"
      ],
      "text/plain": [
       "                                      name platform    year       genre  \\\n",
       "5444                                NHL 17      PS4  2016.0      Sports   \n",
       "12424                         My Pet Chimp       DS  2010.0  Simulation   \n",
       "4308   Star Wars Jedi Knight: Jedi Academy       XB  2003.0     Shooter   \n",
       "12916                Famicom Mini: Dig Dug      GBA  2004.0      Puzzle   \n",
       "5860             The King of Fighters XIII      PS3  2011.0    Fighting   \n",
       "\n",
       "       na_sales  eu_sales  jp_sales  other_sales  critic_score user_score  \\\n",
       "5444       0.19      0.08      0.00         0.06          78.0        5.8   \n",
       "12424      0.06      0.00      0.00         0.00           NaN        tbd   \n",
       "4308       0.34      0.10      0.00         0.02          76.0        8.7   \n",
       "12916      0.00      0.00      0.05         0.00           NaN        NaN   \n",
       "5860       0.17      0.06      0.04         0.03          77.0        8.2   \n",
       "\n",
       "      rating  \n",
       "5444    E10+  \n",
       "12424      E  \n",
       "4308       T  \n",
       "12916    NaN  \n",
       "5860       T  "
      ]
     },
     "execution_count": 4,
     "metadata": {},
     "output_type": "execute_result"
    }
   ],
   "source": [
    "#применим к df атрибут columns и метод str.lower()\n",
    "df.columns = df.columns.str.lower()\n",
    "df = df.rename(columns={'year_of_release':'year'})\n",
    "\n",
    "df.sample(5, random_state=2)"
   ]
  },
  {
   "cell_type": "markdown",
   "metadata": {},
   "source": [
    "**Вывод**\n",
    "\n",
    "Для удобства работы с таблицей переименовали все столбцы, поменяв прописные буквы на строчные, а название «Год выпуска» `year_of_release` заменили на «Год» `year`."
   ]
  },
  {
   "cell_type": "markdown",
   "metadata": {},
   "source": [
    "### Обработка пропущенных данных"
   ]
  },
  {
   "cell_type": "markdown",
   "metadata": {},
   "source": [
    "В таблице есть данные по двум играм, у которых не указано название. Выведем эти две строчки на экран:"
   ]
  },
  {
   "cell_type": "code",
   "execution_count": 5,
   "metadata": {},
   "outputs": [
    {
     "data": {
      "text/html": [
       "<div>\n",
       "<style scoped>\n",
       "    .dataframe tbody tr th:only-of-type {\n",
       "        vertical-align: middle;\n",
       "    }\n",
       "\n",
       "    .dataframe tbody tr th {\n",
       "        vertical-align: top;\n",
       "    }\n",
       "\n",
       "    .dataframe thead th {\n",
       "        text-align: right;\n",
       "    }\n",
       "</style>\n",
       "<table border=\"1\" class=\"dataframe\">\n",
       "  <thead>\n",
       "    <tr style=\"text-align: right;\">\n",
       "      <th></th>\n",
       "      <th>name</th>\n",
       "      <th>platform</th>\n",
       "      <th>year</th>\n",
       "      <th>genre</th>\n",
       "      <th>na_sales</th>\n",
       "      <th>eu_sales</th>\n",
       "      <th>jp_sales</th>\n",
       "      <th>other_sales</th>\n",
       "      <th>critic_score</th>\n",
       "      <th>user_score</th>\n",
       "      <th>rating</th>\n",
       "    </tr>\n",
       "  </thead>\n",
       "  <tbody>\n",
       "    <tr>\n",
       "      <td>659</td>\n",
       "      <td>NaN</td>\n",
       "      <td>GEN</td>\n",
       "      <td>1993.0</td>\n",
       "      <td>NaN</td>\n",
       "      <td>1.78</td>\n",
       "      <td>0.53</td>\n",
       "      <td>0.00</td>\n",
       "      <td>0.08</td>\n",
       "      <td>NaN</td>\n",
       "      <td>NaN</td>\n",
       "      <td>NaN</td>\n",
       "    </tr>\n",
       "    <tr>\n",
       "      <td>14244</td>\n",
       "      <td>NaN</td>\n",
       "      <td>GEN</td>\n",
       "      <td>1993.0</td>\n",
       "      <td>NaN</td>\n",
       "      <td>0.00</td>\n",
       "      <td>0.00</td>\n",
       "      <td>0.03</td>\n",
       "      <td>0.00</td>\n",
       "      <td>NaN</td>\n",
       "      <td>NaN</td>\n",
       "      <td>NaN</td>\n",
       "    </tr>\n",
       "  </tbody>\n",
       "</table>\n",
       "</div>"
      ],
      "text/plain": [
       "      name platform    year genre  na_sales  eu_sales  jp_sales  other_sales  \\\n",
       "659    NaN      GEN  1993.0   NaN      1.78      0.53      0.00         0.08   \n",
       "14244  NaN      GEN  1993.0   NaN      0.00      0.00      0.03         0.00   \n",
       "\n",
       "       critic_score user_score rating  \n",
       "659             NaN        NaN    NaN  \n",
       "14244           NaN        NaN    NaN  "
      ]
     },
     "execution_count": 5,
     "metadata": {},
     "output_type": "execute_result"
    }
   ],
   "source": [
    "df.query('name.isna()')"
   ]
  },
  {
   "cell_type": "markdown",
   "metadata": {},
   "source": [
    "Это две игры, выпущенные в 1993 году на платформе GEN. По этим играм также нет данных о жанре, рейтинге или оценках — значит мы можем удалить эти две строчки:"
   ]
  },
  {
   "cell_type": "code",
   "execution_count": 6,
   "metadata": {},
   "outputs": [
    {
     "data": {
      "text/plain": [
       "name     0\n",
       "genre    0\n",
       "dtype: int64"
      ]
     },
     "execution_count": 6,
     "metadata": {},
     "output_type": "execute_result"
    }
   ],
   "source": [
    "df = df.query('name.notna()').reset_index(drop=True)\n",
    "\n",
    "#проверим количество пропусков в двух столбцах\n",
    "df[['name', 'genre']].isna().sum()"
   ]
  },
  {
   "cell_type": "markdown",
   "metadata": {},
   "source": [
    "Пропущенные данные также есть в столбце с указанием года выпуска игры. Выведем несколько таких строк:"
   ]
  },
  {
   "cell_type": "code",
   "execution_count": 7,
   "metadata": {},
   "outputs": [
    {
     "data": {
      "text/html": [
       "<div>\n",
       "<style scoped>\n",
       "    .dataframe tbody tr th:only-of-type {\n",
       "        vertical-align: middle;\n",
       "    }\n",
       "\n",
       "    .dataframe tbody tr th {\n",
       "        vertical-align: top;\n",
       "    }\n",
       "\n",
       "    .dataframe thead th {\n",
       "        text-align: right;\n",
       "    }\n",
       "</style>\n",
       "<table border=\"1\" class=\"dataframe\">\n",
       "  <thead>\n",
       "    <tr style=\"text-align: right;\">\n",
       "      <th></th>\n",
       "      <th>name</th>\n",
       "      <th>platform</th>\n",
       "      <th>year</th>\n",
       "      <th>genre</th>\n",
       "      <th>na_sales</th>\n",
       "      <th>eu_sales</th>\n",
       "      <th>jp_sales</th>\n",
       "      <th>other_sales</th>\n",
       "      <th>critic_score</th>\n",
       "      <th>user_score</th>\n",
       "      <th>rating</th>\n",
       "    </tr>\n",
       "  </thead>\n",
       "  <tbody>\n",
       "    <tr>\n",
       "      <td>183</td>\n",
       "      <td>Madden NFL 2004</td>\n",
       "      <td>PS2</td>\n",
       "      <td>NaN</td>\n",
       "      <td>Sports</td>\n",
       "      <td>4.26</td>\n",
       "      <td>0.26</td>\n",
       "      <td>0.01</td>\n",
       "      <td>0.71</td>\n",
       "      <td>94.0</td>\n",
       "      <td>8.5</td>\n",
       "      <td>E</td>\n",
       "    </tr>\n",
       "    <tr>\n",
       "      <td>377</td>\n",
       "      <td>FIFA Soccer 2004</td>\n",
       "      <td>PS2</td>\n",
       "      <td>NaN</td>\n",
       "      <td>Sports</td>\n",
       "      <td>0.59</td>\n",
       "      <td>2.36</td>\n",
       "      <td>0.04</td>\n",
       "      <td>0.51</td>\n",
       "      <td>84.0</td>\n",
       "      <td>6.4</td>\n",
       "      <td>E</td>\n",
       "    </tr>\n",
       "    <tr>\n",
       "      <td>456</td>\n",
       "      <td>LEGO Batman: The Videogame</td>\n",
       "      <td>Wii</td>\n",
       "      <td>NaN</td>\n",
       "      <td>Action</td>\n",
       "      <td>1.80</td>\n",
       "      <td>0.97</td>\n",
       "      <td>0.00</td>\n",
       "      <td>0.29</td>\n",
       "      <td>74.0</td>\n",
       "      <td>7.9</td>\n",
       "      <td>E10+</td>\n",
       "    </tr>\n",
       "    <tr>\n",
       "      <td>475</td>\n",
       "      <td>wwe Smackdown vs. Raw 2006</td>\n",
       "      <td>PS2</td>\n",
       "      <td>NaN</td>\n",
       "      <td>Fighting</td>\n",
       "      <td>1.57</td>\n",
       "      <td>1.02</td>\n",
       "      <td>0.00</td>\n",
       "      <td>0.41</td>\n",
       "      <td>NaN</td>\n",
       "      <td>NaN</td>\n",
       "      <td>NaN</td>\n",
       "    </tr>\n",
       "    <tr>\n",
       "      <td>609</td>\n",
       "      <td>Space Invaders</td>\n",
       "      <td>2600</td>\n",
       "      <td>NaN</td>\n",
       "      <td>Shooter</td>\n",
       "      <td>2.36</td>\n",
       "      <td>0.14</td>\n",
       "      <td>0.00</td>\n",
       "      <td>0.03</td>\n",
       "      <td>NaN</td>\n",
       "      <td>NaN</td>\n",
       "      <td>NaN</td>\n",
       "    </tr>\n",
       "  </tbody>\n",
       "</table>\n",
       "</div>"
      ],
      "text/plain": [
       "                           name platform  year     genre  na_sales  eu_sales  \\\n",
       "183             Madden NFL 2004      PS2   NaN    Sports      4.26      0.26   \n",
       "377            FIFA Soccer 2004      PS2   NaN    Sports      0.59      2.36   \n",
       "456  LEGO Batman: The Videogame      Wii   NaN    Action      1.80      0.97   \n",
       "475  wwe Smackdown vs. Raw 2006      PS2   NaN  Fighting      1.57      1.02   \n",
       "609              Space Invaders     2600   NaN   Shooter      2.36      0.14   \n",
       "\n",
       "     jp_sales  other_sales  critic_score user_score rating  \n",
       "183      0.01         0.71          94.0        8.5      E  \n",
       "377      0.04         0.51          84.0        6.4      E  \n",
       "456      0.00         0.29          74.0        7.9   E10+  \n",
       "475      0.00         0.41           NaN        NaN    NaN  \n",
       "609      0.00         0.03           NaN        NaN    NaN  "
      ]
     },
     "execution_count": 7,
     "metadata": {},
     "output_type": "execute_result"
    }
   ],
   "source": [
    "df.query('year.isna()').head()"
   ]
  },
  {
   "cell_type": "markdown",
   "metadata": {},
   "source": [
    "У нас нет данных по которым мы могли бы заполнить пропуски в годах. Даже если он указан в названии, это не гарантирует, что выпущена игра была также в том году. Например, «Madden NFL 2004» была выпущена в августе 2003 года, хотя в названии указан 2004. Правильнее будет тоже удалить эти строчки, тем более, что строки с пропущенными значениями составляют всего приблизительно 1,5 % (269 из 16715)."
   ]
  },
  {
   "cell_type": "code",
   "execution_count": 8,
   "metadata": {},
   "outputs": [
    {
     "data": {
      "text/plain": [
       "0"
      ]
     },
     "execution_count": 8,
     "metadata": {},
     "output_type": "execute_result"
    }
   ],
   "source": [
    "#в df сохраним строки, в которых заполнен год выпуска\n",
    "df = df.query('year.notna()').reset_index(drop=True)\n",
    "\n",
    "#проверим число пропусков в столбце\n",
    "df['year'].isna().sum()"
   ]
  },
  {
   "cell_type": "markdown",
   "metadata": {},
   "source": [
    "Видим большое количество пропусков в столбцах с оценками пользователей и критиков — не хватает примерно половины данных. Оценки могут отсутствовать, например, у игр, которые выходили в 1980–90-х годах. То есть задолго до появления сайтов вроде «Metacritic», которые собирают отзывы и рецензии. В то же время, в последние 10–15 лет было выпущено огромное число игр, не все из них известны и популярны, и не на каждую игру издание может опубликовать рецензию. Все-таки больше внимания привлекают долгожданные релизы от ведущих платформ. \n",
    "\n",
    "Было бы некорректно заполнять пропуски в оценках экспертов или пользователей, потому что это сильно исказит данные. Но мы помним, что в столбце `user_score` встречается значение *tbd* (to be determined — подлежит уточнению). Это игры, по которым пользователи поставили недостаточное количество оценок. И как только их наберется необходимое число, сайт сможет опубликовать рейтинг. \n",
    "<br>Вычислим, сколько таких строк в таблице: "
   ]
  },
  {
   "cell_type": "code",
   "execution_count": 9,
   "metadata": {},
   "outputs": [
    {
     "name": "stdout",
     "output_type": "stream",
     "text": [
      "Значений с tbd: 2376\n",
      "Пропущенных значений: 6605\n"
     ]
    }
   ],
   "source": [
    "print('Значений с tbd:', df.loc[df['user_score'] == 'tbd', ('user_score')].count())\n",
    "print('Пропущенных значений:', df['user_score'].isna().sum())"
   ]
  },
  {
   "cell_type": "markdown",
   "metadata": {},
   "source": [
    "В таблице представлено 2376 игры, по которым пользователи пока оставили недостаточно оценок. Чтобы нам было удобнее работать с данными, заменим значение *tbd* на пропуск, то есть NaN:"
   ]
  },
  {
   "cell_type": "code",
   "execution_count": 10,
   "metadata": {},
   "outputs": [
    {
     "name": "stdout",
     "output_type": "stream",
     "text": [
      "Значений с tbd: 0\n",
      "Пропущенных значений: 8981\n"
     ]
    }
   ],
   "source": [
    "df.loc[df['user_score'] == 'tbd', ('user_score')] = np.nan\n",
    "\n",
    "#проверим, как изменилось количество строк с tbd и с пропусками\n",
    "print('Значений с tbd:', df.loc[df['user_score'] == 'tbd', ('user_score')].count())\n",
    "print('Пропущенных значений:', df['user_score'].isna().sum())"
   ]
  },
  {
   "cell_type": "markdown",
   "metadata": {},
   "source": [
    "В таблице не осталось значений, в которых оценка пользователя = *tbd*, но увеличилось число пропущенных значений в этом столбце, теперь их 8981. \n",
    "\n",
    "Изучим, на какие рейтинги организация ESRB распределяет компьютерные игры: \n",
    "   * «EC» («Early childhood») — «Для детей младшего возраста» — от 3 лет и старше\n",
    "   * «E» («Everyone») — «Для всех» — от 6 лет и старше\n",
    "   * «E10+» («Everyone 10 and older») — «Для всех от 10 лет и старше» \n",
    "   * «T» («Teen») — «Подросткам» — от 13 лет и старше\n",
    "   * «M» («Mature») — «Для взрослых» — от 17 лет и старше\n",
    "   * «AO» («Adults Only 18+») — «Только для взрослых» — старше 18 лет\n",
    "   * «RP» («Rating Pending») — «Рейтинг ожидается» — Продукт был отправлен в ESRB и ожидает присвоения рейтинга\n",
    "   \n",
    "Выясним, какие рейтинги представлены в нашей таблице:"
   ]
  },
  {
   "cell_type": "code",
   "execution_count": 11,
   "metadata": {},
   "outputs": [
    {
     "data": {
      "text/plain": [
       "E       3921\n",
       "T       2905\n",
       "M       1536\n",
       "E10+    1393\n",
       "EC         8\n",
       "K-A        3\n",
       "AO         1\n",
       "RP         1\n",
       "Name: rating, dtype: int64"
      ]
     },
     "execution_count": 11,
     "metadata": {},
     "output_type": "execute_result"
    }
   ],
   "source": [
    "df['rating'].value_counts()"
   ]
  },
  {
   "cell_type": "markdown",
   "metadata": {},
   "source": [
    "Замители три игры с неизвестным рейтингом «K-A». Это «Kids to Adults» — старое название для рейтинга «E» — «Everyone», его не используют с 1998 года. Заменим значения «K-A» на «E»:"
   ]
  },
  {
   "cell_type": "code",
   "execution_count": 12,
   "metadata": {},
   "outputs": [
    {
     "data": {
      "text/plain": [
       "E       3924\n",
       "T       2905\n",
       "M       1536\n",
       "E10+    1393\n",
       "EC         8\n",
       "AO         1\n",
       "RP         1\n",
       "Name: rating, dtype: int64"
      ]
     },
     "execution_count": 12,
     "metadata": {},
     "output_type": "execute_result"
    }
   ],
   "source": [
    "df.loc[df['rating'] == 'K-A', ('rating')] = 'E'\n",
    "\n",
    "#проверим общее число рейтингов\n",
    "df['rating'].value_counts()"
   ]
  },
  {
   "cell_type": "markdown",
   "metadata": {},
   "source": [
    "В столбце `rating` пропущено более 6500 значений. Стоит отметить, что организация ESRB базируется в США и Канаде и определяет рейтинги для игр, выпущенных на территории Северной Америки. Следовательно, в других регионах этот рейтинг может быть не указан. К тому же ESRB была основана в 1994 году, и для игр, выпущенных ранее, эта организация рейтинг не устанавливала. Все это объясняет большое число пропусков. \n",
    "\n",
    "Заменим пропущенные значения в этом столбце на «undefined» (*«не определено»*):"
   ]
  },
  {
   "cell_type": "code",
   "execution_count": 13,
   "metadata": {},
   "outputs": [
    {
     "data": {
      "text/plain": [
       "undefined    6676\n",
       "E            3924\n",
       "T            2905\n",
       "M            1536\n",
       "E10+         1393\n",
       "EC              8\n",
       "AO              1\n",
       "RP              1\n",
       "Name: rating, dtype: int64"
      ]
     },
     "execution_count": 13,
     "metadata": {},
     "output_type": "execute_result"
    }
   ],
   "source": [
    "df.loc[df['rating'].isna(), ('rating')] = 'undefined'\n",
    "\n",
    "#посчитаем количество уникальных значений в столбце\n",
    "df['rating'].value_counts()"
   ]
  },
  {
   "cell_type": "markdown",
   "metadata": {},
   "source": [
    "**Вывод**\n",
    "\n",
    "Мы удалили строки, в которых были пропущены название игры, ее жанр и год выпуска. В столбце с оценками пользователей заменили значение *tbd* (to be determined — подлежит уточнению) на пропуски, так как по факту этих оценок все равно нет. В столбце с рейтингом мы заменили устаревшее обозначение «K-A» («Kids to Adults») на современное «E» — «Everyone». Пропущенные значения заменили на *undefined*, так как рейтинг может быть пропущен у игр, выпущенных ранее 1994 года или продающихся не на террритории Северной Америки.\n",
    "<br>Таким образом, пропущенные значения остались в столбцах с оценками экспертов и пользователей."
   ]
  },
  {
   "cell_type": "markdown",
   "metadata": {},
   "source": [
    "### Замена типов данных"
   ]
  },
  {
   "cell_type": "markdown",
   "metadata": {},
   "source": [
    "Столбец с указанием года выпуска игры сейчас записан в числовом формате `float64`. Заменим тип данных на `datetime`:"
   ]
  },
  {
   "cell_type": "code",
   "execution_count": 14,
   "metadata": {},
   "outputs": [
    {
     "data": {
      "text/html": [
       "<div>\n",
       "<style scoped>\n",
       "    .dataframe tbody tr th:only-of-type {\n",
       "        vertical-align: middle;\n",
       "    }\n",
       "\n",
       "    .dataframe tbody tr th {\n",
       "        vertical-align: top;\n",
       "    }\n",
       "\n",
       "    .dataframe thead th {\n",
       "        text-align: right;\n",
       "    }\n",
       "</style>\n",
       "<table border=\"1\" class=\"dataframe\">\n",
       "  <thead>\n",
       "    <tr style=\"text-align: right;\">\n",
       "      <th></th>\n",
       "      <th>name</th>\n",
       "      <th>platform</th>\n",
       "      <th>year</th>\n",
       "      <th>genre</th>\n",
       "      <th>na_sales</th>\n",
       "      <th>eu_sales</th>\n",
       "      <th>jp_sales</th>\n",
       "      <th>other_sales</th>\n",
       "      <th>critic_score</th>\n",
       "      <th>user_score</th>\n",
       "      <th>rating</th>\n",
       "    </tr>\n",
       "  </thead>\n",
       "  <tbody>\n",
       "    <tr>\n",
       "      <td>13863</td>\n",
       "      <td>Stadium Games</td>\n",
       "      <td>GBA</td>\n",
       "      <td>2003</td>\n",
       "      <td>Sports</td>\n",
       "      <td>0.03</td>\n",
       "      <td>0.01</td>\n",
       "      <td>0.0</td>\n",
       "      <td>0.00</td>\n",
       "      <td>NaN</td>\n",
       "      <td>NaN</td>\n",
       "      <td>undefined</td>\n",
       "    </tr>\n",
       "    <tr>\n",
       "      <td>6233</td>\n",
       "      <td>Command &amp; Conquer</td>\n",
       "      <td>N64</td>\n",
       "      <td>1999</td>\n",
       "      <td>Strategy</td>\n",
       "      <td>0.22</td>\n",
       "      <td>0.05</td>\n",
       "      <td>0.0</td>\n",
       "      <td>0.00</td>\n",
       "      <td>NaN</td>\n",
       "      <td>NaN</td>\n",
       "      <td>undefined</td>\n",
       "    </tr>\n",
       "    <tr>\n",
       "      <td>11571</td>\n",
       "      <td>Driven</td>\n",
       "      <td>GC</td>\n",
       "      <td>2002</td>\n",
       "      <td>Racing</td>\n",
       "      <td>0.06</td>\n",
       "      <td>0.02</td>\n",
       "      <td>0.0</td>\n",
       "      <td>0.00</td>\n",
       "      <td>55.0</td>\n",
       "      <td>NaN</td>\n",
       "      <td>T</td>\n",
       "    </tr>\n",
       "    <tr>\n",
       "      <td>11650</td>\n",
       "      <td>Open Season</td>\n",
       "      <td>PSP</td>\n",
       "      <td>2006</td>\n",
       "      <td>Platform</td>\n",
       "      <td>0.07</td>\n",
       "      <td>0.00</td>\n",
       "      <td>0.0</td>\n",
       "      <td>0.01</td>\n",
       "      <td>NaN</td>\n",
       "      <td>NaN</td>\n",
       "      <td>E10+</td>\n",
       "    </tr>\n",
       "    <tr>\n",
       "      <td>2063</td>\n",
       "      <td>Guitar Hero: Aerosmith</td>\n",
       "      <td>PS3</td>\n",
       "      <td>2008</td>\n",
       "      <td>Misc</td>\n",
       "      <td>0.73</td>\n",
       "      <td>0.15</td>\n",
       "      <td>0.0</td>\n",
       "      <td>0.11</td>\n",
       "      <td>70.0</td>\n",
       "      <td>5</td>\n",
       "      <td>T</td>\n",
       "    </tr>\n",
       "  </tbody>\n",
       "</table>\n",
       "</div>"
      ],
      "text/plain": [
       "                         name platform  year     genre  na_sales  eu_sales  \\\n",
       "13863           Stadium Games      GBA  2003    Sports      0.03      0.01   \n",
       "6233        Command & Conquer      N64  1999  Strategy      0.22      0.05   \n",
       "11571                  Driven       GC  2002    Racing      0.06      0.02   \n",
       "11650             Open Season      PSP  2006  Platform      0.07      0.00   \n",
       "2063   Guitar Hero: Aerosmith      PS3  2008      Misc      0.73      0.15   \n",
       "\n",
       "       jp_sales  other_sales  critic_score user_score     rating  \n",
       "13863       0.0         0.00           NaN        NaN  undefined  \n",
       "6233        0.0         0.00           NaN        NaN  undefined  \n",
       "11571       0.0         0.00          55.0        NaN          T  \n",
       "11650       0.0         0.01           NaN        NaN       E10+  \n",
       "2063        0.0         0.11          70.0          5          T  "
      ]
     },
     "execution_count": 14,
     "metadata": {},
     "output_type": "execute_result"
    }
   ],
   "source": [
    "df['year'] = pd.to_datetime(df['year'], format='%Y').dt.year\n",
    "\n",
    "df.sample(5, random_state=1)"
   ]
  },
  {
   "cell_type": "markdown",
   "metadata": {},
   "source": [
    "После замены значений *tbd* на пропуски в столбце с оценками пользователей можно заменить тип данных на `float64`:"
   ]
  },
  {
   "cell_type": "code",
   "execution_count": 15,
   "metadata": {},
   "outputs": [
    {
     "name": "stdout",
     "output_type": "stream",
     "text": [
      "<class 'pandas.core.frame.DataFrame'>\n",
      "RangeIndex: 16444 entries, 0 to 16443\n",
      "Data columns (total 11 columns):\n",
      "name            16444 non-null object\n",
      "platform        16444 non-null object\n",
      "year            16444 non-null int64\n",
      "genre           16444 non-null object\n",
      "na_sales        16444 non-null float64\n",
      "eu_sales        16444 non-null float64\n",
      "jp_sales        16444 non-null float64\n",
      "other_sales     16444 non-null float64\n",
      "critic_score    7983 non-null float64\n",
      "user_score      7463 non-null float64\n",
      "rating          16444 non-null object\n",
      "dtypes: float64(6), int64(1), object(4)\n",
      "memory usage: 1.4+ MB\n"
     ]
    }
   ],
   "source": [
    "df['user_score'] = df['user_score'].astype('float')\n",
    "\n",
    "#выведем общую информацию о таблице и проверим типы данных и число пропусков\n",
    "df.info()"
   ]
  },
  {
   "cell_type": "markdown",
   "metadata": {},
   "source": [
    "**Вывод**\n",
    "\n",
    "Заменили тип данных в столбце с годом выпуска компьютерных игр на дату, теперь он принимает целочисленный формат `int64`. Также в столбце с оценками пользователей поменяли тип `object` на числовой — `float`."
   ]
  },
  {
   "cell_type": "markdown",
   "metadata": {},
   "source": [
    "### Вычисление суммарных продаж"
   ]
  },
  {
   "cell_type": "markdown",
   "metadata": {},
   "source": [
    "Вычислим общие продажи компьютерных игр во всех регионах: то есть суммарное число проданных копий в Северной Америке, Европе, Японии и других странах. Запишем результат в новый столбец `total_sales`:"
   ]
  },
  {
   "cell_type": "code",
   "execution_count": 16,
   "metadata": {},
   "outputs": [
    {
     "data": {
      "text/html": [
       "<div>\n",
       "<style scoped>\n",
       "    .dataframe tbody tr th:only-of-type {\n",
       "        vertical-align: middle;\n",
       "    }\n",
       "\n",
       "    .dataframe tbody tr th {\n",
       "        vertical-align: top;\n",
       "    }\n",
       "\n",
       "    .dataframe thead th {\n",
       "        text-align: right;\n",
       "    }\n",
       "</style>\n",
       "<table border=\"1\" class=\"dataframe\">\n",
       "  <thead>\n",
       "    <tr style=\"text-align: right;\">\n",
       "      <th></th>\n",
       "      <th>name</th>\n",
       "      <th>platform</th>\n",
       "      <th>year</th>\n",
       "      <th>genre</th>\n",
       "      <th>na_sales</th>\n",
       "      <th>eu_sales</th>\n",
       "      <th>jp_sales</th>\n",
       "      <th>other_sales</th>\n",
       "      <th>critic_score</th>\n",
       "      <th>user_score</th>\n",
       "      <th>rating</th>\n",
       "      <th>total_sales</th>\n",
       "    </tr>\n",
       "  </thead>\n",
       "  <tbody>\n",
       "    <tr>\n",
       "      <td>13863</td>\n",
       "      <td>Stadium Games</td>\n",
       "      <td>GBA</td>\n",
       "      <td>2003</td>\n",
       "      <td>Sports</td>\n",
       "      <td>0.03</td>\n",
       "      <td>0.01</td>\n",
       "      <td>0.00</td>\n",
       "      <td>0.00</td>\n",
       "      <td>NaN</td>\n",
       "      <td>NaN</td>\n",
       "      <td>undefined</td>\n",
       "      <td>0.04</td>\n",
       "    </tr>\n",
       "    <tr>\n",
       "      <td>6233</td>\n",
       "      <td>Command &amp; Conquer</td>\n",
       "      <td>N64</td>\n",
       "      <td>1999</td>\n",
       "      <td>Strategy</td>\n",
       "      <td>0.22</td>\n",
       "      <td>0.05</td>\n",
       "      <td>0.00</td>\n",
       "      <td>0.00</td>\n",
       "      <td>NaN</td>\n",
       "      <td>NaN</td>\n",
       "      <td>undefined</td>\n",
       "      <td>0.27</td>\n",
       "    </tr>\n",
       "    <tr>\n",
       "      <td>11571</td>\n",
       "      <td>Driven</td>\n",
       "      <td>GC</td>\n",
       "      <td>2002</td>\n",
       "      <td>Racing</td>\n",
       "      <td>0.06</td>\n",
       "      <td>0.02</td>\n",
       "      <td>0.00</td>\n",
       "      <td>0.00</td>\n",
       "      <td>55.0</td>\n",
       "      <td>NaN</td>\n",
       "      <td>T</td>\n",
       "      <td>0.08</td>\n",
       "    </tr>\n",
       "    <tr>\n",
       "      <td>11650</td>\n",
       "      <td>Open Season</td>\n",
       "      <td>PSP</td>\n",
       "      <td>2006</td>\n",
       "      <td>Platform</td>\n",
       "      <td>0.07</td>\n",
       "      <td>0.00</td>\n",
       "      <td>0.00</td>\n",
       "      <td>0.01</td>\n",
       "      <td>NaN</td>\n",
       "      <td>NaN</td>\n",
       "      <td>E10+</td>\n",
       "      <td>0.08</td>\n",
       "    </tr>\n",
       "    <tr>\n",
       "      <td>2063</td>\n",
       "      <td>Guitar Hero: Aerosmith</td>\n",
       "      <td>PS3</td>\n",
       "      <td>2008</td>\n",
       "      <td>Misc</td>\n",
       "      <td>0.73</td>\n",
       "      <td>0.15</td>\n",
       "      <td>0.00</td>\n",
       "      <td>0.11</td>\n",
       "      <td>70.0</td>\n",
       "      <td>5.0</td>\n",
       "      <td>T</td>\n",
       "      <td>0.99</td>\n",
       "    </tr>\n",
       "    <tr>\n",
       "      <td>4894</td>\n",
       "      <td>Wario Land II (GBC)</td>\n",
       "      <td>GB</td>\n",
       "      <td>1998</td>\n",
       "      <td>Platform</td>\n",
       "      <td>0.00</td>\n",
       "      <td>0.00</td>\n",
       "      <td>0.38</td>\n",
       "      <td>0.00</td>\n",
       "      <td>NaN</td>\n",
       "      <td>NaN</td>\n",
       "      <td>undefined</td>\n",
       "      <td>0.38</td>\n",
       "    </tr>\n",
       "    <tr>\n",
       "      <td>2869</td>\n",
       "      <td>Madden NFL 2005</td>\n",
       "      <td>GC</td>\n",
       "      <td>2004</td>\n",
       "      <td>Sports</td>\n",
       "      <td>0.54</td>\n",
       "      <td>0.14</td>\n",
       "      <td>0.00</td>\n",
       "      <td>0.02</td>\n",
       "      <td>90.0</td>\n",
       "      <td>NaN</td>\n",
       "      <td>E</td>\n",
       "      <td>0.70</td>\n",
       "    </tr>\n",
       "    <tr>\n",
       "      <td>12791</td>\n",
       "      <td>Sled Shred featuring the Jamaican Bobsled Team</td>\n",
       "      <td>Wii</td>\n",
       "      <td>2010</td>\n",
       "      <td>Sports</td>\n",
       "      <td>0.05</td>\n",
       "      <td>0.00</td>\n",
       "      <td>0.00</td>\n",
       "      <td>0.00</td>\n",
       "      <td>NaN</td>\n",
       "      <td>NaN</td>\n",
       "      <td>E</td>\n",
       "      <td>0.05</td>\n",
       "    </tr>\n",
       "    <tr>\n",
       "      <td>7007</td>\n",
       "      <td>F1 2014</td>\n",
       "      <td>X360</td>\n",
       "      <td>2014</td>\n",
       "      <td>Racing</td>\n",
       "      <td>0.08</td>\n",
       "      <td>0.13</td>\n",
       "      <td>0.00</td>\n",
       "      <td>0.02</td>\n",
       "      <td>64.0</td>\n",
       "      <td>4.1</td>\n",
       "      <td>E</td>\n",
       "      <td>0.23</td>\n",
       "    </tr>\n",
       "    <tr>\n",
       "      <td>14322</td>\n",
       "      <td>Minna no Golf Jou Vol.1</td>\n",
       "      <td>PSP</td>\n",
       "      <td>2007</td>\n",
       "      <td>Sports</td>\n",
       "      <td>0.00</td>\n",
       "      <td>0.00</td>\n",
       "      <td>0.03</td>\n",
       "      <td>0.00</td>\n",
       "      <td>NaN</td>\n",
       "      <td>NaN</td>\n",
       "      <td>undefined</td>\n",
       "      <td>0.03</td>\n",
       "    </tr>\n",
       "  </tbody>\n",
       "</table>\n",
       "</div>"
      ],
      "text/plain": [
       "                                                 name platform  year  \\\n",
       "13863                                   Stadium Games      GBA  2003   \n",
       "6233                                Command & Conquer      N64  1999   \n",
       "11571                                          Driven       GC  2002   \n",
       "11650                                     Open Season      PSP  2006   \n",
       "2063                           Guitar Hero: Aerosmith      PS3  2008   \n",
       "4894                              Wario Land II (GBC)       GB  1998   \n",
       "2869                                  Madden NFL 2005       GC  2004   \n",
       "12791  Sled Shred featuring the Jamaican Bobsled Team      Wii  2010   \n",
       "7007                                          F1 2014     X360  2014   \n",
       "14322                         Minna no Golf Jou Vol.1      PSP  2007   \n",
       "\n",
       "          genre  na_sales  eu_sales  jp_sales  other_sales  critic_score  \\\n",
       "13863    Sports      0.03      0.01      0.00         0.00           NaN   \n",
       "6233   Strategy      0.22      0.05      0.00         0.00           NaN   \n",
       "11571    Racing      0.06      0.02      0.00         0.00          55.0   \n",
       "11650  Platform      0.07      0.00      0.00         0.01           NaN   \n",
       "2063       Misc      0.73      0.15      0.00         0.11          70.0   \n",
       "4894   Platform      0.00      0.00      0.38         0.00           NaN   \n",
       "2869     Sports      0.54      0.14      0.00         0.02          90.0   \n",
       "12791    Sports      0.05      0.00      0.00         0.00           NaN   \n",
       "7007     Racing      0.08      0.13      0.00         0.02          64.0   \n",
       "14322    Sports      0.00      0.00      0.03         0.00           NaN   \n",
       "\n",
       "       user_score     rating  total_sales  \n",
       "13863         NaN  undefined         0.04  \n",
       "6233          NaN  undefined         0.27  \n",
       "11571         NaN          T         0.08  \n",
       "11650         NaN       E10+         0.08  \n",
       "2063          5.0          T         0.99  \n",
       "4894          NaN  undefined         0.38  \n",
       "2869          NaN          E         0.70  \n",
       "12791         NaN          E         0.05  \n",
       "7007          4.1          E         0.23  \n",
       "14322         NaN  undefined         0.03  "
      ]
     },
     "execution_count": 16,
     "metadata": {},
     "output_type": "execute_result"
    }
   ],
   "source": [
    "#в новом столбце запишем сумму 4 столбцов с продажами в разных регионах\n",
    "df['total_sales'] = df['na_sales'] + df['eu_sales'] + df['jp_sales'] + df['other_sales']\n",
    "\n",
    "df.sample(10, random_state=1)"
   ]
  },
  {
   "cell_type": "markdown",
   "metadata": {},
   "source": [
    "**Вывод**\n",
    "\n",
    "Создали новый столбец, в котором записали общие продажи игр (в миллионах копий) в Северной Америке, Японии, Европе и других странах."
   ]
  },
  {
   "cell_type": "markdown",
   "metadata": {},
   "source": [
    "## Исследовательский анализ данных"
   ]
  },
  {
   "cell_type": "markdown",
   "metadata": {},
   "source": [
    "Выясним, какой период можно назвать актуальным для нашего исследования. Проанализируем общие продажи платформ и узнаем, влияют ли на них оценки критиков и пользователей. "
   ]
  },
  {
   "cell_type": "markdown",
   "metadata": {},
   "source": [
    "### Сколько игр выпускалось в разные годы?"
   ]
  },
  {
   "cell_type": "markdown",
   "metadata": {},
   "source": [
    "Рассмотрим, как менялось число выпускаемых компьютерных игр в разные годы. Построим столбчатый график для столбца `year`:"
   ]
  },
  {
   "cell_type": "code",
   "execution_count": 17,
   "metadata": {},
   "outputs": [
    {
     "data": {
      "image/png": "[encoded data removed]",
      "text/plain": [
       "<Figure size 1080x504 with 1 Axes>"
      ]
     },
     "metadata": {
      "needs_background": "light"
     },
     "output_type": "display_data"
    }
   ],
   "source": [
    "#вычислим общее количество игр и сгруппируем их по году выпуска, построим график по этим данным \n",
    "df.groupby('year')['name'].count().plot(kind='bar', figsize=(15, 7), title='Сколько игр выпускалось в разные годы?', grid=True)\n",
    "plt.xlabel('Год выпуска')\n",
    "plt.ylabel('Количество игр')\n",
    "plt.show()"
   ]
  },
  {
   "cell_type": "markdown",
   "metadata": {},
   "source": [
    "**Вывод**\n",
    "\n",
    "Первый заметный рост количества выпущенных компьютерных игр пришелся на 1995 год, что вероятно связано с развитием графики и зарождением новых жанров. Следующий всплеск — 2002 год, когда набирали популярность мобильные и онлайн-игры, появились новые консоли, такие как PlayStation 2 или Xbox. Максимальное количество игр было выпущено в 2008 и 2009 годах. После этого число выпущенных игр стало снижаться: в 2012 вышло более чем в 1,5 раза меньше игр, чем в 2011. И в последние 5 лет число выпущенных игр варьируется в диапазоне 500–600 в год."
   ]
  },
  {
   "cell_type": "markdown",
   "metadata": {},
   "source": [
    "### Как менялись продажи по платформам?"
   ]
  },
  {
   "cell_type": "markdown",
   "metadata": {},
   "source": [
    "Выявим 10 платформ с самыми высокими общими продажами:"
   ]
  },
  {
   "cell_type": "code",
   "execution_count": 18,
   "metadata": {},
   "outputs": [
    {
     "data": {
      "text/html": [
       "<div>\n",
       "<style scoped>\n",
       "    .dataframe tbody tr th:only-of-type {\n",
       "        vertical-align: middle;\n",
       "    }\n",
       "\n",
       "    .dataframe tbody tr th {\n",
       "        vertical-align: top;\n",
       "    }\n",
       "\n",
       "    .dataframe thead th {\n",
       "        text-align: right;\n",
       "    }\n",
       "</style>\n",
       "<table border=\"1\" class=\"dataframe\">\n",
       "  <thead>\n",
       "    <tr style=\"text-align: right;\">\n",
       "      <th></th>\n",
       "      <th>total_sales</th>\n",
       "    </tr>\n",
       "    <tr>\n",
       "      <th>platform</th>\n",
       "      <th></th>\n",
       "    </tr>\n",
       "  </thead>\n",
       "  <tbody>\n",
       "    <tr>\n",
       "      <td>PS2</td>\n",
       "      <td>1233.56</td>\n",
       "    </tr>\n",
       "    <tr>\n",
       "      <td>X360</td>\n",
       "      <td>961.24</td>\n",
       "    </tr>\n",
       "    <tr>\n",
       "      <td>PS3</td>\n",
       "      <td>931.34</td>\n",
       "    </tr>\n",
       "    <tr>\n",
       "      <td>Wii</td>\n",
       "      <td>891.18</td>\n",
       "    </tr>\n",
       "    <tr>\n",
       "      <td>DS</td>\n",
       "      <td>802.78</td>\n",
       "    </tr>\n",
       "    <tr>\n",
       "      <td>PS</td>\n",
       "      <td>727.58</td>\n",
       "    </tr>\n",
       "    <tr>\n",
       "      <td>PS4</td>\n",
       "      <td>314.14</td>\n",
       "    </tr>\n",
       "    <tr>\n",
       "      <td>GBA</td>\n",
       "      <td>312.88</td>\n",
       "    </tr>\n",
       "    <tr>\n",
       "      <td>PSP</td>\n",
       "      <td>289.53</td>\n",
       "    </tr>\n",
       "    <tr>\n",
       "      <td>3DS</td>\n",
       "      <td>257.81</td>\n",
       "    </tr>\n",
       "  </tbody>\n",
       "</table>\n",
       "</div>"
      ],
      "text/plain": [
       "          total_sales\n",
       "platform             \n",
       "PS2           1233.56\n",
       "X360           961.24\n",
       "PS3            931.34\n",
       "Wii            891.18\n",
       "DS             802.78\n",
       "PS             727.58\n",
       "PS4            314.14\n",
       "GBA            312.88\n",
       "PSP            289.53\n",
       "3DS            257.81"
      ]
     },
     "execution_count": 18,
     "metadata": {},
     "output_type": "execute_result"
    }
   ],
   "source": [
    "df.groupby('platform').agg({'total_sales':'sum'}).sort_values(by='total_sales', ascending=False).head(10)"
   ]
  },
  {
   "cell_type": "markdown",
   "metadata": {},
   "source": [
    "Рассмотрим первые 6 платформ с самыми высокими суммарными продажами: PS2, X360, PS3, Wii, DS и PS. Построим график и узнаем, как распределялись их продажи в разные годы:"
   ]
  },
  {
   "cell_type": "code",
   "execution_count": 19,
   "metadata": {},
   "outputs": [
    {
     "data": {
      "image/png": "[encoded data removed]",
      "text/plain": [
       "<Figure size 1080x504 with 1 Axes>"
      ]
     },
     "metadata": {
      "needs_background": "light"
     },
     "output_type": "display_data"
    }
   ],
   "source": [
    "#сохраним названия 6 платформ\n",
    "name = ['PS2', 'X360', 'PS3', 'Wii', 'DS', 'PS']\n",
    "\n",
    "(df\n",
    "    .query('platform == @name')\n",
    "    .pivot_table(index='year', columns = 'platform', values='total_sales', aggfunc='sum')\n",
    "    .plot(kind='bar', figsize=(15, 7), title='Как в разные годы менялись продажи игр у самых успешных платформ')\n",
    ")\n",
    "plt.legend()\n",
    "plt.xlabel('Год выпуска игры')\n",
    "plt.ylabel('Проданные копии, млн')\n",
    "plt.show()"
   ]
  },
  {
   "cell_type": "markdown",
   "metadata": {},
   "source": [
    "По графику видно, что в среднем платформа «живет» 10 лет. Пиковое число проданных копий достигается примерно в середине этого периода. После шести лет существования платформы продажи начинают падать. Все выбранные нами 6 платформ к 2016 году уже потеряли свои позиции.\n",
    "\n",
    "Для анализа нам необходимо определить *потенциально успешные* игры. Ранее мы выяснили, что максимальных показателей продаж платформы достигают приблизительно к пятому году своего существования. Можно сделать вывод, что игры, которые будут популярны в 2017 году, выпущены не ранее 2013 года. Есть вероятность, что у нас представлены неполные данные за 2016 год, поэтому будет лучше исключить его. То есть актуальный период для нашего исследования — с 2013 по 2015 год."
   ]
  },
  {
   "cell_type": "code",
   "execution_count": 20,
   "metadata": {},
   "outputs": [
    {
     "data": {
      "text/html": [
       "<div>\n",
       "<style scoped>\n",
       "    .dataframe tbody tr th:only-of-type {\n",
       "        vertical-align: middle;\n",
       "    }\n",
       "\n",
       "    .dataframe tbody tr th {\n",
       "        vertical-align: top;\n",
       "    }\n",
       "\n",
       "    .dataframe thead th {\n",
       "        text-align: right;\n",
       "    }\n",
       "</style>\n",
       "<table border=\"1\" class=\"dataframe\">\n",
       "  <thead>\n",
       "    <tr style=\"text-align: right;\">\n",
       "      <th></th>\n",
       "      <th>name</th>\n",
       "      <th>platform</th>\n",
       "      <th>year</th>\n",
       "      <th>genre</th>\n",
       "      <th>na_sales</th>\n",
       "      <th>eu_sales</th>\n",
       "      <th>jp_sales</th>\n",
       "      <th>other_sales</th>\n",
       "      <th>critic_score</th>\n",
       "      <th>user_score</th>\n",
       "      <th>rating</th>\n",
       "      <th>total_sales</th>\n",
       "    </tr>\n",
       "  </thead>\n",
       "  <tbody>\n",
       "    <tr>\n",
       "      <td>723</td>\n",
       "      <td>Teenage Mutant Ninja Turtles: Danger of the Ooze</td>\n",
       "      <td>X360</td>\n",
       "      <td>2014</td>\n",
       "      <td>Adventure</td>\n",
       "      <td>0.11</td>\n",
       "      <td>0.07</td>\n",
       "      <td>0.00</td>\n",
       "      <td>0.02</td>\n",
       "      <td>NaN</td>\n",
       "      <td>6.4</td>\n",
       "      <td>E10+</td>\n",
       "      <td>0.20</td>\n",
       "    </tr>\n",
       "    <tr>\n",
       "      <td>1012</td>\n",
       "      <td>Minecraft: Story Mode</td>\n",
       "      <td>PC</td>\n",
       "      <td>2015</td>\n",
       "      <td>Adventure</td>\n",
       "      <td>0.02</td>\n",
       "      <td>0.06</td>\n",
       "      <td>0.00</td>\n",
       "      <td>0.01</td>\n",
       "      <td>NaN</td>\n",
       "      <td>NaN</td>\n",
       "      <td>undefined</td>\n",
       "      <td>0.09</td>\n",
       "    </tr>\n",
       "    <tr>\n",
       "      <td>1683</td>\n",
       "      <td>Shirahana no Ori: Hiiro no Kakera 4 - Shiki no...</td>\n",
       "      <td>PSP</td>\n",
       "      <td>2013</td>\n",
       "      <td>Adventure</td>\n",
       "      <td>0.00</td>\n",
       "      <td>0.00</td>\n",
       "      <td>0.01</td>\n",
       "      <td>0.00</td>\n",
       "      <td>NaN</td>\n",
       "      <td>NaN</td>\n",
       "      <td>undefined</td>\n",
       "      <td>0.01</td>\n",
       "    </tr>\n",
       "    <tr>\n",
       "      <td>1717</td>\n",
       "      <td>Xblaze: Lost Memories</td>\n",
       "      <td>PSV</td>\n",
       "      <td>2015</td>\n",
       "      <td>Adventure</td>\n",
       "      <td>0.01</td>\n",
       "      <td>0.00</td>\n",
       "      <td>0.00</td>\n",
       "      <td>0.00</td>\n",
       "      <td>NaN</td>\n",
       "      <td>7.0</td>\n",
       "      <td>M</td>\n",
       "      <td>0.01</td>\n",
       "    </tr>\n",
       "    <tr>\n",
       "      <td>1695</td>\n",
       "      <td>Rugby World Cup 2015</td>\n",
       "      <td>PC</td>\n",
       "      <td>2015</td>\n",
       "      <td>Sports</td>\n",
       "      <td>0.00</td>\n",
       "      <td>0.01</td>\n",
       "      <td>0.00</td>\n",
       "      <td>0.00</td>\n",
       "      <td>NaN</td>\n",
       "      <td>1.4</td>\n",
       "      <td>E</td>\n",
       "      <td>0.01</td>\n",
       "    </tr>\n",
       "  </tbody>\n",
       "</table>\n",
       "</div>"
      ],
      "text/plain": [
       "                                                   name platform  year  \\\n",
       "723    Teenage Mutant Ninja Turtles: Danger of the Ooze     X360  2014   \n",
       "1012                              Minecraft: Story Mode       PC  2015   \n",
       "1683  Shirahana no Ori: Hiiro no Kakera 4 - Shiki no...      PSP  2013   \n",
       "1717                              Xblaze: Lost Memories      PSV  2015   \n",
       "1695                               Rugby World Cup 2015       PC  2015   \n",
       "\n",
       "          genre  na_sales  eu_sales  jp_sales  other_sales  critic_score  \\\n",
       "723   Adventure      0.11      0.07      0.00         0.02           NaN   \n",
       "1012  Adventure      0.02      0.06      0.00         0.01           NaN   \n",
       "1683  Adventure      0.00      0.00      0.01         0.00           NaN   \n",
       "1717  Adventure      0.01      0.00      0.00         0.00           NaN   \n",
       "1695     Sports      0.00      0.01      0.00         0.00           NaN   \n",
       "\n",
       "      user_score     rating  total_sales  \n",
       "723          6.4       E10+         0.20  \n",
       "1012         NaN  undefined         0.09  \n",
       "1683         NaN  undefined         0.01  \n",
       "1717         7.0          M         0.01  \n",
       "1695         1.4          E         0.01  "
      ]
     },
     "execution_count": 20,
     "metadata": {},
     "output_type": "execute_result"
    }
   ],
   "source": [
    "df_new = df.query('year >= 2013 and year <= 2015').reset_index(drop=True)\n",
    "\n",
    "df_new.sample(5, random_state=1)"
   ]
  },
  {
   "cell_type": "markdown",
   "metadata": {},
   "source": [
    "**Вывод**\n",
    "\n",
    "Рассмотрели пять платформ с самыми высокими продажами и выявили, что в среднем период жизни платформы составляет 10 лет. Первую половину этого срока платформы наращивают объемы продаж и выходят к максимальным значениям, а во второй половине наблюдается спад числа общих продаж. Для нашего исследования определили актуальный период с 2013 по 2015 год.  "
   ]
  },
  {
   "cell_type": "markdown",
   "metadata": {},
   "source": [
    "### Какие платформы будут потенциально успешными в 2017 году?"
   ]
  },
  {
   "cell_type": "markdown",
   "metadata": {},
   "source": [
    "Определим, какие платформы продали больше всего копий в период с 2013 по 2015 годы. "
   ]
  },
  {
   "cell_type": "code",
   "execution_count": 21,
   "metadata": {},
   "outputs": [
    {
     "data": {
      "text/html": [
       "<div>\n",
       "<style scoped>\n",
       "    .dataframe tbody tr th:only-of-type {\n",
       "        vertical-align: middle;\n",
       "    }\n",
       "\n",
       "    .dataframe tbody tr th {\n",
       "        vertical-align: top;\n",
       "    }\n",
       "\n",
       "    .dataframe thead th {\n",
       "        text-align: right;\n",
       "    }\n",
       "</style>\n",
       "<table border=\"1\" class=\"dataframe\">\n",
       "  <thead>\n",
       "    <tr style=\"text-align: right;\">\n",
       "      <th></th>\n",
       "      <th>total_sales</th>\n",
       "    </tr>\n",
       "    <tr>\n",
       "      <th>platform</th>\n",
       "      <th></th>\n",
       "    </tr>\n",
       "  </thead>\n",
       "  <tbody>\n",
       "    <tr>\n",
       "      <td>PS4</td>\n",
       "      <td>244.89</td>\n",
       "    </tr>\n",
       "    <tr>\n",
       "      <td>PS3</td>\n",
       "      <td>177.83</td>\n",
       "    </tr>\n",
       "    <tr>\n",
       "      <td>X360</td>\n",
       "      <td>135.28</td>\n",
       "    </tr>\n",
       "    <tr>\n",
       "      <td>XOne</td>\n",
       "      <td>133.17</td>\n",
       "    </tr>\n",
       "    <tr>\n",
       "      <td>3DS</td>\n",
       "      <td>128.11</td>\n",
       "    </tr>\n",
       "  </tbody>\n",
       "</table>\n",
       "</div>"
      ],
      "text/plain": [
       "          total_sales\n",
       "platform             \n",
       "PS4            244.89\n",
       "PS3            177.83\n",
       "X360           135.28\n",
       "XOne           133.17\n",
       "3DS            128.11"
      ]
     },
     "execution_count": 21,
     "metadata": {},
     "output_type": "execute_result"
    }
   ],
   "source": [
    "#рассчитаем общие продажи и выведем 5 лидирующих платформ \n",
    "df_new.groupby('platform').agg({'total_sales':'sum'}).sort_values(by='total_sales', ascending=False).head()"
   ]
  },
  {
   "cell_type": "markdown",
   "metadata": {},
   "source": [
    "В период с 2013 по 2015 годы самые высокие продажи были у платформ PS4, PS3, X360, XOne и 3DS. Построим для них график распределения общих продаж по годам:"
   ]
  },
  {
   "cell_type": "code",
   "execution_count": 22,
   "metadata": {},
   "outputs": [
    {
     "data": {
      "image/png": "[encoded data removed]",
      "text/plain": [
       "<Figure size 648x432 with 1 Axes>"
      ]
     },
     "metadata": {
      "needs_background": "light"
     },
     "output_type": "display_data"
    }
   ],
   "source": [
    "names = ['PS4', 'PS3', 'X360', 'XOne', '3DS']\n",
    "\n",
    "(df_new\n",
    "    .query('platform == @names')\n",
    "    .pivot_table(index='year', columns = 'platform', values='total_sales', aggfunc='sum')\n",
    "    .plot(kind='bar', figsize=(9, 6), title='Как распределились суммарные продажи платформ по годам')\n",
    ")\n",
    "plt.legend()\n",
    "plt.xlabel('Год выпуска')\n",
    "plt.ylabel('Проданные копии, млн')    \n",
    "plt.show()"
   ]
  },
  {
   "cell_type": "markdown",
   "metadata": {},
   "source": [
    "К 2015 году набирают рост платформы PS4 и XOne. X360 и PS3 имеют высокий уровень продаж, но в 2013 году они уже прошли свои пики и в 2015 проигрывают конкурентам. У 3DS тоже снижаются продажи, но менее стремительно. Она тоже в 2017 году может остаться прибыльной. \n",
    "\n",
    "**Вывод**\n",
    "\n",
    "Выявили пять плафторм, продавшими наибольшее число копий в период с 2013 по 2015 год. По этим данным построили график и определили потенциально успешные платформы — PS4, XOne и 3DS."
   ]
  },
  {
   "cell_type": "markdown",
   "metadata": {},
   "source": [
    "### Глобальные продажи игр в разбивке по платформам"
   ]
  },
  {
   "cell_type": "markdown",
   "metadata": {},
   "source": [
    "Изучим глобальные продажи потенциально успешных платформ: PS4, XOne и 3DS. Построим диаграмму размаха с разбивкой по платформам:"
   ]
  },
  {
   "cell_type": "code",
   "execution_count": 23,
   "metadata": {},
   "outputs": [
    {
     "name": "stderr",
     "output_type": "stream",
     "text": [
      "/opt/conda/lib/python3.7/site-packages/numpy/core/_asarray.py:83: VisibleDeprecationWarning: Creating an ndarray from ragged nested sequences (which is a list-or-tuple of lists-or-tuples-or ndarrays with different lengths or shapes) is deprecated. If you meant to do this, you must specify 'dtype=object' when creating the ndarray\n",
      "  return array(a, dtype, copy=False, order=order)\n"
     ]
    },
    {
     "data": {
      "image/png": "[encoded data removed]",
      "text/plain": [
       "<Figure size 936x360 with 1 Axes>"
      ]
     },
     "metadata": {
      "needs_background": "light"
     },
     "output_type": "display_data"
    }
   ],
   "source": [
    "df_new.query('platform == [\"PS4\", \"3DS\", \"XOne\"]').boxplot(by='platform', \n",
    "                                                           column='total_sales', figsize=(13, 5), vert=False, showfliers=False)\n",
    "plt.title(None)\n",
    "plt.suptitle('Глобальные продажи потенциально успешных игр')\n",
    "#установим верхнюю границу в 5 млн копий\n",
    "plt.xlim(0, 5)\n",
    "plt.ylabel('Название платформы')\n",
    "plt.xlabel('Проданные копии, млн')\n",
    "plt.show()"
   ]
  },
  {
   "cell_type": "markdown",
   "metadata": {},
   "source": [
    "**Вывод**\n",
    "\n",
    "Медианы и границы выбросов для платформ PS4 и XOne примерно одинаковые: медиана составляет приблизительно 0,3 млн копий, а значение верхних усов не превышает 2,5 млн копий. Медиана продаж платформы 3DS значительно меньше и равна 100 тыс. копий, граница выбросов приходится на 0,6 млн копий. \n",
    "То есть в среднем в период с 2013 по 2015 год игры платформы 3DS продавались хуже, чем игры платформ Xbox One и PS4."
   ]
  },
  {
   "cell_type": "markdown",
   "metadata": {},
   "source": [
    "### Как влияют на продажи внутри одной платформы отзывы пользователей и критиков?"
   ]
  },
  {
   "cell_type": "markdown",
   "metadata": {},
   "source": [
    "Существует ли зависимость между оценками пользователей и критиков и числом проданных копий игры? Построим диаграммы рассеяния для каждой из трех платформ. Также вычислим коэффициент корреляции Пирсона для этих же значений: "
   ]
  },
  {
   "cell_type": "code",
   "execution_count": 24,
   "metadata": {},
   "outputs": [],
   "source": [
    "#напишем функцию, которая для каждой платформы будет выводить два графика, а также считать коэффициенты корреляции \n",
    "def scatter_corr(data, platform):\n",
    "    new_corr = data.query('platform == @platform')[['user_score','critic_score','total_sales']]\n",
    "    fig, axes = plt.subplots(nrows=1, ncols=2, figsize=(16, 5))\n",
    "    \n",
    "    new_corr.plot(kind='scatter', x='user_score', y='total_sales', alpha=0.8, grid=True, ax=axes[0])\n",
    "    axes[0].set_xlabel('Оценки пользователей')\n",
    "    axes[0].set_ylabel('Проданные копии, млн')\n",
    "    new_corr.plot(kind='scatter', x='critic_score', y='total_sales', alpha=0.8, grid=True, ax=axes[1])\n",
    "    axes[1].set_xlabel('Оценки критиков')\n",
    "    axes[1].set_ylabel('Проданные копии, млн')\n",
    "    fig.suptitle('Влияние оценок критиков и пользователей на продажи платформы {}'.format(platform))\n",
    "    plt.show()\n",
    "    \n",
    "    user_sales = new_corr.corr().loc['user_score', 'total_sales']\n",
    "    critic_sales = new_corr.corr().loc['critic_score', 'total_sales']\n",
    "    \n",
    "    print('Корреляция продаж и оценок пользователей для платформы {}: {}'.format(platform, round(user_sales, 3)))\n",
    "    print('Корреляция продаж и оценок критиков для платформы {}: {}'.format(platform, round(critic_sales, 3)))"
   ]
  },
  {
   "cell_type": "code",
   "execution_count": 25,
   "metadata": {},
   "outputs": [
    {
     "data": {
      "image/png": "[encoded data removed]",
      "text/plain": [
       "<Figure size 1152x360 with 2 Axes>"
      ]
     },
     "metadata": {
      "needs_background": "light"
     },
     "output_type": "display_data"
    },
    {
     "name": "stdout",
     "output_type": "stream",
     "text": [
      "Корреляция продаж и оценок пользователей для платформы PS4: 0.024\n",
      "Корреляция продаж и оценок критиков для платформы PS4: 0.432\n"
     ]
    }
   ],
   "source": [
    "scatter_corr(df_new, 'PS4')"
   ]
  },
  {
   "cell_type": "code",
   "execution_count": 26,
   "metadata": {},
   "outputs": [
    {
     "data": {
      "image/png": "[encoded data removed]",
      "text/plain": [
       "<Figure size 1152x360 with 2 Axes>"
      ]
     },
     "metadata": {
      "needs_background": "light"
     },
     "output_type": "display_data"
    },
    {
     "name": "stdout",
     "output_type": "stream",
     "text": [
      "Корреляция продаж и оценок пользователей для платформы 3DS: 0.265\n",
      "Корреляция продаж и оценок критиков для платформы 3DS: 0.384\n"
     ]
    }
   ],
   "source": [
    "scatter_corr(df_new, '3DS')"
   ]
  },
  {
   "cell_type": "code",
   "execution_count": 27,
   "metadata": {},
   "outputs": [
    {
     "data": {
      "image/png": "[encoded data removed]",
      "text/plain": [
       "<Figure size 1152x360 with 2 Axes>"
      ]
     },
     "metadata": {
      "needs_background": "light"
     },
     "output_type": "display_data"
    },
    {
     "name": "stdout",
     "output_type": "stream",
     "text": [
      "Корреляция продаж и оценок пользователей для платформы XOne: -0.039\n",
      "Корреляция продаж и оценок критиков для платформы XOne: 0.459\n"
     ]
    }
   ],
   "source": [
    "scatter_corr(df_new, 'XOne')"
   ]
  },
  {
   "cell_type": "markdown",
   "metadata": {},
   "source": [
    "Рассмотрим влияние оценок на продажи на примере платформы PS4. Оценки пользователей не имеют влияния на продажи игр: большинство высоких оценок (7–8,5 из 10) было поставлено играм, число проданных копий которых не превышает и 1,5 млн. При этом есть игры, на продажи которых не повлияли средние или низкие оценки от пользователей. Коэффициент корреляции также показывает отсутствие зависимости между значениями, он близок к нулю и равен 0,02. \n",
    "<br>С отзывами критиков ситуация другая.  Высокие оценки часто оказывали положительное влияние на продажи, но не всегда гарантировали ее успех. Многие игры получали высокие оценки и при этом имели небольшие продажи. При этом игры с низкими оценками продаются хуже (менее 1 млн копий). Коэффициент корреляции составляет 0,43, что говорит он наличии средней взаимосвязи между продажами и оценками критиков. \n",
    "\n",
    "Сравним зависимость продаж и оценок для других платформ. \n",
    "<br>Оценки пользователей слабо влияют на продажи платформ 3DS и XOne. Высокие оценки не всегда гарантируют большие продажи. Хотя у платформы 3DS было несколько игр с максимальными оценками, число проданных копий которых составило от 2 до 5 млн. Но в целом говорить о прямой взаимосвязи этих показателей мы не можем. Значения коэффициентов корреляции это подтверждают: 0,26 — для 3DS, –0,04 — для XOne. \n",
    "<br>Оценки критиков все же имеют большее влияние на продажи платформ 3DS и XOne. Особенно явно это видно на графике для платформы XOne: чем выше оценка, тем больше число проданных копий. Тем не менее, зависимость числа продаж от оценки критиков недостаточно сильная: коэффициент корреляции для 3DS равен 0,38, для XOne — 0,46.\n",
    "\n",
    "**Вывод**\n",
    "\n",
    "Проанализировали взаимосвязь между общими продажами игр и оценками пользователей и критиков. На продажи трех потенциально успешных платформ оценки пользователей влияния не оказывают. В то же время существует небольшая зависимость между продажами и оценками критиков.  "
   ]
  },
  {
   "cell_type": "markdown",
   "metadata": {},
   "source": [
    "### Общее распределение игр по жанрам"
   ]
  },
  {
   "cell_type": "markdown",
   "metadata": {},
   "source": [
    "Рассмотрим, в каких жанрах выпускаются игры. Построим график для отображения доли каждого жанра:"
   ]
  },
  {
   "cell_type": "code",
   "execution_count": 28,
   "metadata": {},
   "outputs": [
    {
     "data": {
      "image/png": "[encoded data removed]",
      "text/plain": [
       "<Figure size 1080x504 with 1 Axes>"
      ]
     },
     "metadata": {
      "needs_background": "light"
     },
     "output_type": "display_data"
    }
   ],
   "source": [
    "plot = (df_new\n",
    "    .groupby('genre').agg({'name':'count'})\n",
    "    .sort_values(by='name', ascending=False)\n",
    "    .plot(kind='bar', figsize=(15, 7), legend=False, title='Сколько игр выпущено в каждом жанре', grid=True)\n",
    ")\n",
    "for rect in plot.patches:\n",
    "        height = rect.get_height()\n",
    "        plot.text(rect.get_x() + rect.get_width()/2, 1.02*height, round(height, 1), ha='center', va='bottom')\n",
    "        \n",
    "plt.xlabel('Жанр')\n",
    "plt.ylabel('Численность')\n",
    "plt.show()"
   ]
  },
  {
   "cell_type": "markdown",
   "metadata": {},
   "source": [
    "Треть всех игр была выпущена в жанре Action (Экшн). Также платформы создали большое количество игр в жанрах Role-Playing  (Ролевая игра), Adventure (Приключенческая игра, или Квест) и Sports (Спортивный симулятор). Меньше всего выпущено игр в жанрах Simulation (Симулятор), Strategy (Стратегическая игра) и Puzzle (Головоломка). \n",
    "\n",
    "Выясним, какие жанры приносят больше прибыли:"
   ]
  },
  {
   "cell_type": "code",
   "execution_count": 29,
   "metadata": {},
   "outputs": [
    {
     "data": {
      "image/png": "[encoded data removed]",
      "text/plain": [
       "<Figure size 1080x504 with 1 Axes>"
      ]
     },
     "metadata": {
      "needs_background": "light"
     },
     "output_type": "display_data"
    }
   ],
   "source": [
    "plot = (df_new\n",
    "     .groupby('genre').agg({'total_sales':'sum'})\n",
    "     .sort_values(by='total_sales', ascending=False)\n",
    "     .plot(kind='bar', figsize=(15, 7), legend=False, title='Как распределяются продажи по жанрам', grid=True)\n",
    ")\n",
    "for rect in plot.patches:\n",
    "        height = rect.get_height()\n",
    "        plot.text(rect.get_x() + rect.get_width()/2, 1.02*height, round(height, 1), ha='center', va='bottom')\n",
    "        \n",
    "plt.xlabel('Жанр')\n",
    "plt.ylabel('Проданные копии, млн')\n",
    "plt.show()"
   ]
  },
  {
   "cell_type": "markdown",
   "metadata": {},
   "source": [
    "Самый прибыльный жанр — Action, продано почти 300 млн копий. На втором месте Shooter (Шутер), во многом похожий на Action, — с около 200 млн проданных копий. Следом идут Sports и Role-Playing, их продажи на уровне прибл. 130 млн копий. Самые неприбыльные жанры — Strategy и Puzzle.\n",
    "\n",
    "Также посчитаем, какие жанры *в среднем* приносят больше прибыли: "
   ]
  },
  {
   "cell_type": "code",
   "execution_count": 30,
   "metadata": {},
   "outputs": [
    {
     "data": {
      "image/png": "[encoded data removed]",
      "text/plain": [
       "<Figure size 1080x504 with 1 Axes>"
      ]
     },
     "metadata": {
      "needs_background": "light"
     },
     "output_type": "display_data"
    }
   ],
   "source": [
    "plot = (df_new\n",
    "     .groupby('genre').agg({'total_sales':'mean'})\n",
    "     .sort_values(by='total_sales', ascending=False)\n",
    "     .plot(kind='bar', figsize=(15, 7), legend=False, title='Как распределяются средние продажи по жанрам', grid=True)\n",
    ")\n",
    "for rect in plot.patches:\n",
    "        height = rect.get_height()\n",
    "        plot.text(rect.get_x() + rect.get_width()/2, 1.02*height, round(height, 1), ha='center', va='bottom')\n",
    "        \n",
    "plt.xlabel('Жанр')\n",
    "plt.ylabel('Проданные копии, млн')\n",
    "plt.show()"
   ]
  },
  {
   "cell_type": "markdown",
   "metadata": {},
   "source": [
    "В среднем больше прибыли приносит жанр Shooter, а игр в жанре Action продано примерно в 2,5 меньше. Средние значения жанров Strategy, Puzzle и Adventure показали низкий уровень продаж. \n",
    "\n",
    "**Вывод**\n",
    "\n",
    "В жанре Action выпускается самое большое число игр (его доля — 34 %), поэтому прибыль этого жанра гораздо выше, чем у остальных. Также следует отметить жанр Shooter, доля которого составляет всего 8 %, но при этом прибыль на высоком уровне — почти 200 млн копий. Самые неприбыльные жанры: Strategy и Puzzle. Но игр в этих жанрах выпускается совсем немного (1–2 %), поэтому и прибыль маленькая. "
   ]
  },
  {
   "cell_type": "markdown",
   "metadata": {},
   "source": [
    "## Портрет пользователя каждого региона"
   ]
  },
  {
   "cell_type": "markdown",
   "metadata": {},
   "source": [
    "Составим портрет пользователя каждого региона: Северной Америки, Европы и Японии.\n"
   ]
  },
  {
   "cell_type": "markdown",
   "metadata": {},
   "source": [
    "### Топ-5 популярных платформ"
   ]
  },
  {
   "cell_type": "markdown",
   "metadata": {},
   "source": [
    "Выясним, какие платформы лучше продаются в каждом регионе, и составим топ-5 популярных платформ. "
   ]
  },
  {
   "cell_type": "code",
   "execution_count": 31,
   "metadata": {},
   "outputs": [
    {
     "name": "stdout",
     "output_type": "stream",
     "text": [
      "Топ-5 популярных платформ, регион Северная Америка\n"
     ]
    },
    {
     "data": {
      "text/html": [
       "<div>\n",
       "<style scoped>\n",
       "    .dataframe tbody tr th:only-of-type {\n",
       "        vertical-align: middle;\n",
       "    }\n",
       "\n",
       "    .dataframe tbody tr th {\n",
       "        vertical-align: top;\n",
       "    }\n",
       "\n",
       "    .dataframe thead th {\n",
       "        text-align: right;\n",
       "    }\n",
       "</style>\n",
       "<table border=\"1\" class=\"dataframe\">\n",
       "  <thead>\n",
       "    <tr style=\"text-align: right;\">\n",
       "      <th></th>\n",
       "      <th>na_sales</th>\n",
       "      <th>%</th>\n",
       "    </tr>\n",
       "    <tr>\n",
       "      <th>platform</th>\n",
       "      <th></th>\n",
       "      <th></th>\n",
       "    </tr>\n",
       "  </thead>\n",
       "  <tbody>\n",
       "    <tr>\n",
       "      <td>PS4</td>\n",
       "      <td>87.25</td>\n",
       "      <td>0.22</td>\n",
       "    </tr>\n",
       "    <tr>\n",
       "      <td>X360</td>\n",
       "      <td>80.97</td>\n",
       "      <td>0.21</td>\n",
       "    </tr>\n",
       "    <tr>\n",
       "      <td>XOne</td>\n",
       "      <td>78.85</td>\n",
       "      <td>0.20</td>\n",
       "    </tr>\n",
       "    <tr>\n",
       "      <td>PS3</td>\n",
       "      <td>62.83</td>\n",
       "      <td>0.16</td>\n",
       "    </tr>\n",
       "    <tr>\n",
       "      <td>3DS</td>\n",
       "      <td>34.06</td>\n",
       "      <td>0.09</td>\n",
       "    </tr>\n",
       "  </tbody>\n",
       "</table>\n",
       "</div>"
      ],
      "text/plain": [
       "          na_sales     %\n",
       "platform                \n",
       "PS4          87.25  0.22\n",
       "X360         80.97  0.21\n",
       "XOne         78.85  0.20\n",
       "PS3          62.83  0.16\n",
       "3DS          34.06  0.09"
      ]
     },
     "metadata": {},
     "output_type": "display_data"
    },
    {
     "name": "stdout",
     "output_type": "stream",
     "text": [
      "Топ-5 популярных платформ, регион Европа\n"
     ]
    },
    {
     "data": {
      "text/html": [
       "<div>\n",
       "<style scoped>\n",
       "    .dataframe tbody tr th:only-of-type {\n",
       "        vertical-align: middle;\n",
       "    }\n",
       "\n",
       "    .dataframe tbody tr th {\n",
       "        vertical-align: top;\n",
       "    }\n",
       "\n",
       "    .dataframe thead th {\n",
       "        text-align: right;\n",
       "    }\n",
       "</style>\n",
       "<table border=\"1\" class=\"dataframe\">\n",
       "  <thead>\n",
       "    <tr style=\"text-align: right;\">\n",
       "      <th></th>\n",
       "      <th>eu_sales</th>\n",
       "      <th>%</th>\n",
       "    </tr>\n",
       "    <tr>\n",
       "      <th>platform</th>\n",
       "      <th></th>\n",
       "      <th></th>\n",
       "    </tr>\n",
       "  </thead>\n",
       "  <tbody>\n",
       "    <tr>\n",
       "      <td>PS4</td>\n",
       "      <td>109.31</td>\n",
       "      <td>0.32</td>\n",
       "    </tr>\n",
       "    <tr>\n",
       "      <td>PS3</td>\n",
       "      <td>66.55</td>\n",
       "      <td>0.20</td>\n",
       "    </tr>\n",
       "    <tr>\n",
       "      <td>XOne</td>\n",
       "      <td>41.96</td>\n",
       "      <td>0.12</td>\n",
       "    </tr>\n",
       "    <tr>\n",
       "      <td>X360</td>\n",
       "      <td>41.81</td>\n",
       "      <td>0.12</td>\n",
       "    </tr>\n",
       "    <tr>\n",
       "      <td>3DS</td>\n",
       "      <td>28.63</td>\n",
       "      <td>0.08</td>\n",
       "    </tr>\n",
       "  </tbody>\n",
       "</table>\n",
       "</div>"
      ],
      "text/plain": [
       "          eu_sales     %\n",
       "platform                \n",
       "PS4         109.31  0.32\n",
       "PS3          66.55  0.20\n",
       "XOne         41.96  0.12\n",
       "X360         41.81  0.12\n",
       "3DS          28.63  0.08"
      ]
     },
     "metadata": {},
     "output_type": "display_data"
    },
    {
     "name": "stdout",
     "output_type": "stream",
     "text": [
      "Топ-5 популярных платформ, регион Япония\n"
     ]
    },
    {
     "data": {
      "text/html": [
       "<div>\n",
       "<style scoped>\n",
       "    .dataframe tbody tr th:only-of-type {\n",
       "        vertical-align: middle;\n",
       "    }\n",
       "\n",
       "    .dataframe tbody tr th {\n",
       "        vertical-align: top;\n",
       "    }\n",
       "\n",
       "    .dataframe thead th {\n",
       "        text-align: right;\n",
       "    }\n",
       "</style>\n",
       "<table border=\"1\" class=\"dataframe\">\n",
       "  <thead>\n",
       "    <tr style=\"text-align: right;\">\n",
       "      <th></th>\n",
       "      <th>jp_sales</th>\n",
       "      <th>%</th>\n",
       "    </tr>\n",
       "    <tr>\n",
       "      <th>platform</th>\n",
       "      <th></th>\n",
       "      <th></th>\n",
       "    </tr>\n",
       "  </thead>\n",
       "  <tbody>\n",
       "    <tr>\n",
       "      <td>3DS</td>\n",
       "      <td>59.78</td>\n",
       "      <td>0.49</td>\n",
       "    </tr>\n",
       "    <tr>\n",
       "      <td>PS3</td>\n",
       "      <td>22.05</td>\n",
       "      <td>0.18</td>\n",
       "    </tr>\n",
       "    <tr>\n",
       "      <td>PSV</td>\n",
       "      <td>15.03</td>\n",
       "      <td>0.12</td>\n",
       "    </tr>\n",
       "    <tr>\n",
       "      <td>PS4</td>\n",
       "      <td>10.22</td>\n",
       "      <td>0.08</td>\n",
       "    </tr>\n",
       "    <tr>\n",
       "      <td>WiiU</td>\n",
       "      <td>10.21</td>\n",
       "      <td>0.08</td>\n",
       "    </tr>\n",
       "  </tbody>\n",
       "</table>\n",
       "</div>"
      ],
      "text/plain": [
       "          jp_sales     %\n",
       "platform                \n",
       "3DS          59.78  0.49\n",
       "PS3          22.05  0.18\n",
       "PSV          15.03  0.12\n",
       "PS4          10.22  0.08\n",
       "WiiU         10.21  0.08"
      ]
     },
     "metadata": {},
     "output_type": "display_data"
    }
   ],
   "source": [
    "top_names = {'na_sales':'Северная Америка', 'eu_sales':'Европа', 'jp_sales':'Япония'}\n",
    "\n",
    "#создадим цикл, который будет для каждой платформы считать суммарные продажами по регионам\n",
    "for column in ['na_sales', 'eu_sales', 'jp_sales']:\n",
    "    top_sales = df_new.groupby('platform').agg({column:'sum'}).sort_values(by=column, ascending=False)\n",
    "    #создадим новый столбец с размером доли платформы от общих продаж в данном регионе\n",
    "    top_sales['%'] = round(top_sales[column] / top_sales[column].sum(), 2)\n",
    "    print('Топ-5 популярных платформ, регион', top_names[column])\n",
    "    display(top_sales.head())"
   ]
  },
  {
   "cell_type": "markdown",
   "metadata": {},
   "source": [
    "В Северной Америке примерно с равными долями продаж наиболее популярны три платформы: PS4, X360 и XOne, их доля равна около 20 %. Чуть хуже продаются PS3, их доля составляет 16 % от общих продаж в этом регионе. На последнем месте платформа 3DS с долей продаж в 8 % . \n",
    "<br> В Европе самая популярная платформа — PS4, ее доля равна 32 % от общих продаж. Менее популярны PS3 (19 %), XOne и X360 (обе — 12 %). Как и в Северной Америке, платформа 3DS завершает топ-5, и ее доля тоже составляет 8 %.\n",
    "<br>В Японии же платформа 3DS находится на первом месте, ее доля продаж равна половине от общего объема. Это неудивительно: 3DS разработала японская компания Nintendo, она популярна именно на внутреннем рынке. Также в список популярных платформ вошли PS3, ее доля составляет <br> 18 %, PSV с долей в 12 %, а также PS4 и WiiU (обе — 8 % от общих продаж). Платформы XOne и Х360, пользующиеся популярностью в Европе и Северной Америке, в японский топ-5 не вошли. \n",
    "\n",
    "**Вывод**\n",
    "\n",
    "В Северной Америке и Европе наибольшей популярностью пользуются одни и те же платформы: PS4, PS3, XOne, X360 и 3DS. Хотя доли от продаж распределились с различиями, лидируещей платформой является PS4. На последнем месте в обоих регионах находится 3DS. При этом в Японии эта платформа возглавляет топ-5, ее доля от общих продаж почти равна 50 %. Также в Японии популярны PSV и WiiU, но при этом не пользуются успехом платформы от Microsoft (XOne и Х360), хорошо продающиеся в Америке и Европе.   "
   ]
  },
  {
   "cell_type": "markdown",
   "metadata": {},
   "source": [
    "### Топ-5 популярных жанров"
   ]
  },
  {
   "cell_type": "markdown",
   "metadata": {},
   "source": [
    "Для каждого из регионов найдем по пять популярных жанров:"
   ]
  },
  {
   "cell_type": "code",
   "execution_count": 32,
   "metadata": {
    "scrolled": false
   },
   "outputs": [
    {
     "name": "stdout",
     "output_type": "stream",
     "text": [
      "Топ-5 популярных жанров, регион Северная Америка\n"
     ]
    },
    {
     "data": {
      "text/html": [
       "<div>\n",
       "<style scoped>\n",
       "    .dataframe tbody tr th:only-of-type {\n",
       "        vertical-align: middle;\n",
       "    }\n",
       "\n",
       "    .dataframe tbody tr th {\n",
       "        vertical-align: top;\n",
       "    }\n",
       "\n",
       "    .dataframe thead th {\n",
       "        text-align: right;\n",
       "    }\n",
       "</style>\n",
       "<table border=\"1\" class=\"dataframe\">\n",
       "  <thead>\n",
       "    <tr style=\"text-align: right;\">\n",
       "      <th></th>\n",
       "      <th>na_sales</th>\n",
       "      <th>%</th>\n",
       "    </tr>\n",
       "    <tr>\n",
       "      <th>genre</th>\n",
       "      <th></th>\n",
       "      <th></th>\n",
       "    </tr>\n",
       "  </thead>\n",
       "  <tbody>\n",
       "    <tr>\n",
       "      <td>Action</td>\n",
       "      <td>116.76</td>\n",
       "      <td>0.30</td>\n",
       "    </tr>\n",
       "    <tr>\n",
       "      <td>Shooter</td>\n",
       "      <td>93.50</td>\n",
       "      <td>0.24</td>\n",
       "    </tr>\n",
       "    <tr>\n",
       "      <td>Sports</td>\n",
       "      <td>57.73</td>\n",
       "      <td>0.15</td>\n",
       "    </tr>\n",
       "    <tr>\n",
       "      <td>Role-Playing</td>\n",
       "      <td>40.51</td>\n",
       "      <td>0.10</td>\n",
       "    </tr>\n",
       "    <tr>\n",
       "      <td>Misc</td>\n",
       "      <td>26.73</td>\n",
       "      <td>0.07</td>\n",
       "    </tr>\n",
       "  </tbody>\n",
       "</table>\n",
       "</div>"
      ],
      "text/plain": [
       "              na_sales     %\n",
       "genre                       \n",
       "Action          116.76  0.30\n",
       "Shooter          93.50  0.24\n",
       "Sports           57.73  0.15\n",
       "Role-Playing     40.51  0.10\n",
       "Misc             26.73  0.07"
      ]
     },
     "metadata": {},
     "output_type": "display_data"
    },
    {
     "name": "stdout",
     "output_type": "stream",
     "text": [
      "Топ-5 популярных жанров, регион Европа\n"
     ]
    },
    {
     "data": {
      "text/html": [
       "<div>\n",
       "<style scoped>\n",
       "    .dataframe tbody tr th:only-of-type {\n",
       "        vertical-align: middle;\n",
       "    }\n",
       "\n",
       "    .dataframe tbody tr th {\n",
       "        vertical-align: top;\n",
       "    }\n",
       "\n",
       "    .dataframe thead th {\n",
       "        text-align: right;\n",
       "    }\n",
       "</style>\n",
       "<table border=\"1\" class=\"dataframe\">\n",
       "  <thead>\n",
       "    <tr style=\"text-align: right;\">\n",
       "      <th></th>\n",
       "      <th>eu_sales</th>\n",
       "      <th>%</th>\n",
       "    </tr>\n",
       "    <tr>\n",
       "      <th>genre</th>\n",
       "      <th></th>\n",
       "      <th></th>\n",
       "    </tr>\n",
       "  </thead>\n",
       "  <tbody>\n",
       "    <tr>\n",
       "      <td>Action</td>\n",
       "      <td>107.45</td>\n",
       "      <td>0.32</td>\n",
       "    </tr>\n",
       "    <tr>\n",
       "      <td>Shooter</td>\n",
       "      <td>71.96</td>\n",
       "      <td>0.21</td>\n",
       "    </tr>\n",
       "    <tr>\n",
       "      <td>Sports</td>\n",
       "      <td>48.51</td>\n",
       "      <td>0.14</td>\n",
       "    </tr>\n",
       "    <tr>\n",
       "      <td>Role-Playing</td>\n",
       "      <td>32.69</td>\n",
       "      <td>0.10</td>\n",
       "    </tr>\n",
       "    <tr>\n",
       "      <td>Misc</td>\n",
       "      <td>19.38</td>\n",
       "      <td>0.06</td>\n",
       "    </tr>\n",
       "  </tbody>\n",
       "</table>\n",
       "</div>"
      ],
      "text/plain": [
       "              eu_sales     %\n",
       "genre                       \n",
       "Action          107.45  0.32\n",
       "Shooter          71.96  0.21\n",
       "Sports           48.51  0.14\n",
       "Role-Playing     32.69  0.10\n",
       "Misc             19.38  0.06"
      ]
     },
     "metadata": {},
     "output_type": "display_data"
    },
    {
     "name": "stdout",
     "output_type": "stream",
     "text": [
      "Топ-5 популярных жанров, регион Япония\n"
     ]
    },
    {
     "data": {
      "text/html": [
       "<div>\n",
       "<style scoped>\n",
       "    .dataframe tbody tr th:only-of-type {\n",
       "        vertical-align: middle;\n",
       "    }\n",
       "\n",
       "    .dataframe tbody tr th {\n",
       "        vertical-align: top;\n",
       "    }\n",
       "\n",
       "    .dataframe thead th {\n",
       "        text-align: right;\n",
       "    }\n",
       "</style>\n",
       "<table border=\"1\" class=\"dataframe\">\n",
       "  <thead>\n",
       "    <tr style=\"text-align: right;\">\n",
       "      <th></th>\n",
       "      <th>jp_sales</th>\n",
       "      <th>%</th>\n",
       "    </tr>\n",
       "    <tr>\n",
       "      <th>genre</th>\n",
       "      <th></th>\n",
       "      <th></th>\n",
       "    </tr>\n",
       "  </thead>\n",
       "  <tbody>\n",
       "    <tr>\n",
       "      <td>Role-Playing</td>\n",
       "      <td>44.43</td>\n",
       "      <td>0.37</td>\n",
       "    </tr>\n",
       "    <tr>\n",
       "      <td>Action</td>\n",
       "      <td>33.42</td>\n",
       "      <td>0.28</td>\n",
       "    </tr>\n",
       "    <tr>\n",
       "      <td>Misc</td>\n",
       "      <td>8.16</td>\n",
       "      <td>0.07</td>\n",
       "    </tr>\n",
       "    <tr>\n",
       "      <td>Fighting</td>\n",
       "      <td>6.90</td>\n",
       "      <td>0.06</td>\n",
       "    </tr>\n",
       "    <tr>\n",
       "      <td>Shooter</td>\n",
       "      <td>5.55</td>\n",
       "      <td>0.05</td>\n",
       "    </tr>\n",
       "  </tbody>\n",
       "</table>\n",
       "</div>"
      ],
      "text/plain": [
       "              jp_sales     %\n",
       "genre                       \n",
       "Role-Playing     44.43  0.37\n",
       "Action           33.42  0.28\n",
       "Misc              8.16  0.07\n",
       "Fighting          6.90  0.06\n",
       "Shooter           5.55  0.05"
      ]
     },
     "metadata": {},
     "output_type": "display_data"
    }
   ],
   "source": [
    "#создадим цикл, который будет для каждого жанра считать суммарные продажами по регионам\n",
    "for column in ['na_sales', 'eu_sales', 'jp_sales']:\n",
    "    top_genres = df_new.groupby('genre').agg({column:'sum'}).sort_values(by=column, ascending=False)\n",
    "    #создадим новый столбец с размером доли от общих продаж в данном регионе\n",
    "    top_genres['%'] = round(top_genres[column] / top_genres[column].sum(), 2)\n",
    "    print('Топ-5 популярных жанров, регион', top_names[column])\n",
    "    display(top_genres.head())"
   ]
  },
  {
   "cell_type": "markdown",
   "metadata": {},
   "source": [
    "В Северной Америке и Европе пятерка самых популярных жанров полностью совпадает, их доля от общих продаж также приблизительно одинакова. В топ-5 вошли жанры Action, Shooter, Sports, Role-Playing и Misc (Другие — игры, не вошедшие в какой-либо другой класс). В Японии же на первом месте жанр Role-Playing, следом — Action. Со значительно меньшей долей от продаж на последних местах жанры Misc, Fighting (Файтинг) и Shooter. \n",
    "\n",
    "**Вывод**\n",
    "\n",
    "Топ-5 популярных жанров в Америке и Европе полностью совпадают, на первых строчках Action и Shooter. В Японии же Action расположился на втором месте, а самый популярный жанр — Role-Playing. Возможно это связано с влиянием японской школы ролевых компьютерных игр на внутренний рынок: большинство таких игр разрабатывается именно для пользователей из Японии."
   ]
  },
  {
   "cell_type": "markdown",
   "metadata": {},
   "source": [
    "### Влияет ли рейтинг ESRB на продажи в отдельном регионе?"
   ]
  },
  {
   "cell_type": "markdown",
   "metadata": {},
   "source": [
    "Выясним, какое влияние на продажи оказывает рейтинг ESRB"
   ]
  },
  {
   "cell_type": "code",
   "execution_count": 33,
   "metadata": {},
   "outputs": [
    {
     "name": "stdout",
     "output_type": "stream",
     "text": [
      "Зависимость продаж от рейтинга ESRB, регион Северная Америка\n"
     ]
    },
    {
     "data": {
      "text/html": [
       "<div>\n",
       "<style scoped>\n",
       "    .dataframe tbody tr th:only-of-type {\n",
       "        vertical-align: middle;\n",
       "    }\n",
       "\n",
       "    .dataframe tbody tr th {\n",
       "        vertical-align: top;\n",
       "    }\n",
       "\n",
       "    .dataframe thead th {\n",
       "        text-align: right;\n",
       "    }\n",
       "</style>\n",
       "<table border=\"1\" class=\"dataframe\">\n",
       "  <thead>\n",
       "    <tr style=\"text-align: right;\">\n",
       "      <th></th>\n",
       "      <th>na_sales</th>\n",
       "      <th>%</th>\n",
       "    </tr>\n",
       "    <tr>\n",
       "      <th>rating</th>\n",
       "      <th></th>\n",
       "      <th></th>\n",
       "    </tr>\n",
       "  </thead>\n",
       "  <tbody>\n",
       "    <tr>\n",
       "      <td>M</td>\n",
       "      <td>149.54</td>\n",
       "      <td>0.38</td>\n",
       "    </tr>\n",
       "    <tr>\n",
       "      <td>undefined</td>\n",
       "      <td>80.89</td>\n",
       "      <td>0.21</td>\n",
       "    </tr>\n",
       "    <tr>\n",
       "      <td>E</td>\n",
       "      <td>71.08</td>\n",
       "      <td>0.18</td>\n",
       "    </tr>\n",
       "    <tr>\n",
       "      <td>E10+</td>\n",
       "      <td>50.43</td>\n",
       "      <td>0.13</td>\n",
       "    </tr>\n",
       "    <tr>\n",
       "      <td>T</td>\n",
       "      <td>40.84</td>\n",
       "      <td>0.10</td>\n",
       "    </tr>\n",
       "  </tbody>\n",
       "</table>\n",
       "</div>"
      ],
      "text/plain": [
       "           na_sales     %\n",
       "rating                   \n",
       "M            149.54  0.38\n",
       "undefined     80.89  0.21\n",
       "E             71.08  0.18\n",
       "E10+          50.43  0.13\n",
       "T             40.84  0.10"
      ]
     },
     "metadata": {},
     "output_type": "display_data"
    },
    {
     "name": "stdout",
     "output_type": "stream",
     "text": [
      "Зависимость продаж от рейтинга ESRB, регион Европа\n"
     ]
    },
    {
     "data": {
      "text/html": [
       "<div>\n",
       "<style scoped>\n",
       "    .dataframe tbody tr th:only-of-type {\n",
       "        vertical-align: middle;\n",
       "    }\n",
       "\n",
       "    .dataframe tbody tr th {\n",
       "        vertical-align: top;\n",
       "    }\n",
       "\n",
       "    .dataframe thead th {\n",
       "        text-align: right;\n",
       "    }\n",
       "</style>\n",
       "<table border=\"1\" class=\"dataframe\">\n",
       "  <thead>\n",
       "    <tr style=\"text-align: right;\">\n",
       "      <th></th>\n",
       "      <th>eu_sales</th>\n",
       "      <th>%</th>\n",
       "    </tr>\n",
       "    <tr>\n",
       "      <th>rating</th>\n",
       "      <th></th>\n",
       "      <th></th>\n",
       "    </tr>\n",
       "  </thead>\n",
       "  <tbody>\n",
       "    <tr>\n",
       "      <td>M</td>\n",
       "      <td>128.78</td>\n",
       "      <td>0.38</td>\n",
       "    </tr>\n",
       "    <tr>\n",
       "      <td>undefined</td>\n",
       "      <td>71.44</td>\n",
       "      <td>0.21</td>\n",
       "    </tr>\n",
       "    <tr>\n",
       "      <td>E</td>\n",
       "      <td>69.75</td>\n",
       "      <td>0.20</td>\n",
       "    </tr>\n",
       "    <tr>\n",
       "      <td>E10+</td>\n",
       "      <td>38.88</td>\n",
       "      <td>0.11</td>\n",
       "    </tr>\n",
       "    <tr>\n",
       "      <td>T</td>\n",
       "      <td>32.16</td>\n",
       "      <td>0.09</td>\n",
       "    </tr>\n",
       "  </tbody>\n",
       "</table>\n",
       "</div>"
      ],
      "text/plain": [
       "           eu_sales     %\n",
       "rating                   \n",
       "M            128.78  0.38\n",
       "undefined     71.44  0.21\n",
       "E             69.75  0.20\n",
       "E10+          38.88  0.11\n",
       "T             32.16  0.09"
      ]
     },
     "metadata": {},
     "output_type": "display_data"
    },
    {
     "name": "stdout",
     "output_type": "stream",
     "text": [
      "Зависимость продаж от рейтинга ESRB, регион Япония\n"
     ]
    },
    {
     "data": {
      "text/html": [
       "<div>\n",
       "<style scoped>\n",
       "    .dataframe tbody tr th:only-of-type {\n",
       "        vertical-align: middle;\n",
       "    }\n",
       "\n",
       "    .dataframe tbody tr th {\n",
       "        vertical-align: top;\n",
       "    }\n",
       "\n",
       "    .dataframe thead th {\n",
       "        text-align: right;\n",
       "    }\n",
       "</style>\n",
       "<table border=\"1\" class=\"dataframe\">\n",
       "  <thead>\n",
       "    <tr style=\"text-align: right;\">\n",
       "      <th></th>\n",
       "      <th>jp_sales</th>\n",
       "      <th>%</th>\n",
       "    </tr>\n",
       "    <tr>\n",
       "      <th>rating</th>\n",
       "      <th></th>\n",
       "      <th></th>\n",
       "    </tr>\n",
       "  </thead>\n",
       "  <tbody>\n",
       "    <tr>\n",
       "      <td>undefined</td>\n",
       "      <td>70.73</td>\n",
       "      <td>0.58</td>\n",
       "    </tr>\n",
       "    <tr>\n",
       "      <td>T</td>\n",
       "      <td>18.32</td>\n",
       "      <td>0.15</td>\n",
       "    </tr>\n",
       "    <tr>\n",
       "      <td>E</td>\n",
       "      <td>14.07</td>\n",
       "      <td>0.12</td>\n",
       "    </tr>\n",
       "    <tr>\n",
       "      <td>M</td>\n",
       "      <td>12.91</td>\n",
       "      <td>0.11</td>\n",
       "    </tr>\n",
       "    <tr>\n",
       "      <td>E10+</td>\n",
       "      <td>5.44</td>\n",
       "      <td>0.04</td>\n",
       "    </tr>\n",
       "  </tbody>\n",
       "</table>\n",
       "</div>"
      ],
      "text/plain": [
       "           jp_sales     %\n",
       "rating                   \n",
       "undefined     70.73  0.58\n",
       "T             18.32  0.15\n",
       "E             14.07  0.12\n",
       "M             12.91  0.11\n",
       "E10+           5.44  0.04"
      ]
     },
     "metadata": {},
     "output_type": "display_data"
    }
   ],
   "source": [
    "#создадим цикл, который будет для каждого рейтинга считать суммарные продажами по регионам\n",
    "for column in ['na_sales', 'eu_sales', 'jp_sales']:\n",
    "    esrb = df_new.groupby('rating').agg({column:'sum'}).sort_values(by=column, ascending=False)\n",
    "    #создадим новый столбец с размером доли от общих продаж по данному рейтингу\n",
    "    esrb['%'] = round(esrb[column] / esrb[column].sum(), 2)\n",
    "    print('Зависимость продаж от рейтинга ESRB, регион', top_names[column])\n",
    "    display(esrb)"
   ]
  },
  {
   "cell_type": "markdown",
   "metadata": {},
   "source": [
    "В Северной Америке и Европе популярность игр с определенными рейтингами распределена одинаково. Игры с рейтингом «М» (от 17 лет и старше) имеют 38-процентные доли от общих продаж. Игры без рейтинга имеют долю в 20 %. Вероятно, эти игры были выпущены не на территории Северной Америки, например, в Японии. Детские игры с рейтингами «E» (от 6 лет и старше) и «E10+» (от 10 лет и старше) имеют доли в 18–20 % и 11–12 %, соотвественно. Доля от продаж игр для подростков (от 13 лет и старше) составляет около 1 % от общих продаж. \n",
    "<br>В Японии большей популярностью пользуются игры без рейтинга от ESRB (58 % от общих продаж). Дело в том, что в Японии действует своя организация по определению рейтингов видеоигр — CERO. Именно CERO присуждает рейтинги играм, продающимся на территории страны, а рейтинг от ESRB в Японии ни на что не влияет. Тем не менее, популярностью пользуются игры для подростков, их доля от продаж равна 15 %. На игры с рейтингами «E» и «M» приходится примерно по 10 % от общих продаж. Менее популярны игры для всех от 10 лет и старше, их доля составляет менее 1 %.\n",
    "\n",
    "**Вывод**\n",
    "\n",
    "В Северной Америке и Европе наиболее популярны игры с рейтингом «M» — от 17 лет и старше. На игры для подростков (рейтинг «Т») приходятся самые маленькие доли от общих продаж. В Японии самыми популярными оказались игры без рейтинга от ESRB, так как в Японии есть своя организация (CERO), определяющая рейтинги. Тем не менее, игры для подростков с рейтингом «Т» от ESRB продаются в Японии лучше других, их доля составляет 15 %."
   ]
  },
  {
   "cell_type": "markdown",
   "metadata": {},
   "source": [
    "## Проверка гипотез"
   ]
  },
  {
   "cell_type": "markdown",
   "metadata": {},
   "source": [
    "Выясним, различаются ли средние значения пользовательских рейтингов платформ Xbox One и РС, а также игровых жанров Action и Sports. "
   ]
  },
  {
   "cell_type": "markdown",
   "metadata": {},
   "source": [
    "### Сравнение пользовательских рейтингов платформ Xbox One и PC"
   ]
  },
  {
   "cell_type": "markdown",
   "metadata": {},
   "source": [
    "Сформулируем гипотезы и выясним, различаются ли средние оценки пользователей платформ Xbox One и PC:\n",
    "<br>**Нулевая гипотеза:** Средние значения пользовательских рейтингов платформ Xbox One и PC равны.\n",
    "<br>**Альтернативная гипотеза:** Средние значения пользовательских рейтингов платформ Xbox One и PC различаются."
   ]
  },
  {
   "cell_type": "code",
   "execution_count": 34,
   "metadata": {},
   "outputs": [],
   "source": [
    "#создадим две переменные с указанием пользовательских рейтингов для обеих платформ\n",
    "#применим метод dropna(), чтобы удалить все NaN-значения\n",
    "xone_score = df_new.query('platform == \"XOne\"')['user_score'].dropna()\n",
    "pc_score = df_new.query('platform == \"PC\"')['user_score'].dropna()"
   ]
  },
  {
   "cell_type": "markdown",
   "metadata": {},
   "source": [
    "Для каждой платформы посчитаем дисперсию и стандартное отклонение пользовательского рейтинга:"
   ]
  },
  {
   "cell_type": "code",
   "execution_count": 35,
   "metadata": {},
   "outputs": [
    {
     "name": "stdout",
     "output_type": "stream",
     "text": [
      "Дисперсия пользовательского рейтинга, платформа XOne: 1.66\n",
      "Стандартное отклонение пользовательского рейтинга, платформа XOne: 1.29\n",
      "Дисперсия пользовательского рейтинга, платформа PC: 3.07\n",
      "Стандартное отклонение пользовательского рейтинга, платформа PC: 1.75\n"
     ]
    }
   ],
   "source": [
    "#вычислим дисперсию методом np.var\n",
    "#укажем параметр ddof=1, так как мы работаем с выборкой, а не генеральной совокупностью\n",
    "print('Дисперсия пользовательского рейтинга, платформа XOne:', np.var(xone_score, ddof=1).round(2))\n",
    "#стандартное отклонение вычислим методом np.std, также укажем ddof=1\n",
    "print('Стандартное отклонение пользовательского рейтинга, платформа XOne:', np.std(xone_score, ddof=1).round(2))\n",
    "print('Дисперсия пользовательского рейтинга, платформа PC:', np.var(pc_score, ddof=1).round(2))\n",
    "print('Стандартное отклонение пользовательского рейтинга, платформа PC:', np.std(pc_score, ddof=1).round(2))"
   ]
  },
  {
   "cell_type": "markdown",
   "metadata": {},
   "source": [
    "Дисперсия оценок пользователей платформы РС и, следовательно, стандартное отклонение больше, чем платформы XOne. То есть значения пользовательского рейтинга платформы РС разбросаны относительно среднего сильнее, чем XOne. \n",
    "\n",
    "Построим гистограмму с распределением оценок пользователей по обеим платформам. "
   ]
  },
  {
   "cell_type": "code",
   "execution_count": 36,
   "metadata": {},
   "outputs": [
    {
     "data": {
      "image/png": "[encoded data removed]",
      "text/plain": [
       "<Figure size 576x360 with 1 Axes>"
      ]
     },
     "metadata": {
      "needs_background": "light"
     },
     "output_type": "display_data"
    }
   ],
   "source": [
    "#построим один общий график для обеих платформ, установим alpha=0.4 для лучшего восприятия\n",
    "xone_score.plot(kind='hist', label='XOne', alpha=0.4)\n",
    "pc_score.plot(kind='hist', label='PC', alpha=0.4, figsize=(8, 5))\n",
    "plt.title('Распределение пользовательских рейтингов платформ XOne и РС')\n",
    "plt.legend()\n",
    "plt.ylabel('Частотность')\n",
    "plt.xlabel('Оценки пользователей')\n",
    "plt.show()"
   ]
  },
  {
   "cell_type": "markdown",
   "metadata": {},
   "source": [
    "Обе гистограммы ассиметричные, со скошенным в положительную сторону набором данных. Пиковое значение оценок платформы XOne равно 6,5. Платформу РС оценивают чуть выше, пик приходится на 7–7,5. \n",
    "\n",
    "Выясним, различаются ли дисперсии двух выборок: по платформе XOne и PC. Проведем тест Левена на равенство дисперсий:"
   ]
  },
  {
   "cell_type": "code",
   "execution_count": 37,
   "metadata": {},
   "outputs": [
    {
     "name": "stdout",
     "output_type": "stream",
     "text": [
      "p-value: 0.0020191604962372426\n",
      "Дисперсии не равны\n"
     ]
    }
   ],
   "source": [
    "#зададим уровень статистической значимости в 5 %\n",
    "alpha = 0.05\n",
    "#проведем тест Левена и вычислим значение р\n",
    "stat, p = levene(xone_score, pc_score)\n",
    "print('p-value:', p)\n",
    "\n",
    "#если значение р меньше 5 %, то дисперсии не равны\n",
    "if p < alpha:\n",
    "    print('Дисперсии не равны')\n",
    "else:\n",
    "    print('Дисперсии равны')"
   ]
  },
  {
   "cell_type": "markdown",
   "metadata": {},
   "source": [
    "Тест Левена показал, что значение *p* равно 0,2 %. Можем сделать вывод, что дисперсии двух выборок не равны. \n",
    "\n",
    "Для проверки гипотез проведем t-тест о равенстве средних двух генеральных совокупностей для пользовательского рейтинга, а также вычислим значение *р*. Критический уровень статистической значимости *alpha* будет равен 5 %. В параметре *equal_var* укажем значение *False*, так как дисперсии выборок не равны по результатам теста Левена. "
   ]
  },
  {
   "cell_type": "code",
   "execution_count": 38,
   "metadata": {},
   "outputs": [
    {
     "name": "stdout",
     "output_type": "stream",
     "text": [
      "p-value: 0.2867036680187632\n",
      "Не отвергаем нулевую гипотезу\n"
     ]
    }
   ],
   "source": [
    "alpha = 0.05\n",
    "#в переменной сохраним результаты t-теста, первый массив с данными по платформе XOne, второй - PC\n",
    "platform_result = st.ttest_ind(xone_score, pc_score, equal_var=False)\n",
    "#выведем значение p\n",
    "print('p-value:', platform_result.pvalue)\n",
    "\n",
    "#если значение р меньше 5 %, то отвергаем нулевую гипотезу\n",
    "if platform_result.pvalue < alpha:\n",
    "    print('Отвергаем нулевую гипотезу, средние значения не равны')\n",
    "else:\n",
    "    print('Не отвергаем нулевую гипотезу')"
   ]
  },
  {
   "cell_type": "markdown",
   "metadata": {},
   "source": [
    "**Вывод**\n",
    "\n",
    "Значение *p* равно 29 %, то есть мы не можем отвергнуть нулевую гипотезу. Скорее всего, в генеральной совокупности средние пользовательские рейтинги платформ XOne и РС близки по значению. "
   ]
  },
  {
   "cell_type": "markdown",
   "metadata": {},
   "source": [
    "### Сравнение пользовательских рейтингов жанров Action и Sports "
   ]
  },
  {
   "cell_type": "markdown",
   "metadata": {},
   "source": [
    "Сравним средние оценки пользователей по двум жанрам: Action и Sports. Сформулируем гипотезы:\n",
    "<br>**Нулевая гипотеза:** Средние значения пользовательских рейтингов жанров Action и Sports равны. \n",
    "<br>**Альтернативная гипотеза:** Средние значения пользовательских рейтингов Action и Sports различаются.\n",
    "\n",
    "Создадим две переменные для рейтингов пользователей жанров Action и Sports:"
   ]
  },
  {
   "cell_type": "code",
   "execution_count": 39,
   "metadata": {},
   "outputs": [],
   "source": [
    "#сохраним в двух переменных оценки пользователей по жанрам, удалим пропуски методом dropna()\n",
    "action_score = df_new.query('genre == \"Action\"')['user_score'].dropna()\n",
    "sports_score = df_new.query('genre == \"Sports\"')['user_score'].dropna()"
   ]
  },
  {
   "cell_type": "markdown",
   "metadata": {},
   "source": [
    "Вычислим дисперсию и стандартное отклонение пользовательских рейтингов жанров Action и Sports:"
   ]
  },
  {
   "cell_type": "code",
   "execution_count": 40,
   "metadata": {},
   "outputs": [
    {
     "name": "stdout",
     "output_type": "stream",
     "text": [
      "Дисперсия пользовательского рейтинга, жанр Action: 1.65\n",
      "Стандартное отклонение пользовательского рейтинга, жанр Action: 1.28\n",
      "Дисперсия пользовательского рейтинга, жанр Sports: 2.9\n",
      "Стандартное отклонение пользовательского рейтинга, жанр Sports: 1.7\n"
     ]
    }
   ],
   "source": [
    "#методом np.var вычислим дисперсию, добавим параметр ddof=1, так как мы работаем с выборками\n",
    "print('Дисперсия пользовательского рейтинга, жанр Action:', np.var(action_score, ddof=1).round(2))\n",
    "#стандартное отклонение вычислим методом np.std, также укажем ddof=1\n",
    "print('Стандартное отклонение пользовательского рейтинга, жанр Action:', np.std(action_score, ddof=1).round(2))\n",
    "print('Дисперсия пользовательского рейтинга, жанр Sports:', np.var(sports_score, ddof=1).round(2))\n",
    "print('Стандартное отклонение пользовательского рейтинга, жанр Sports:', np.std(sports_score, ddof=1).round(2))"
   ]
  },
  {
   "cell_type": "markdown",
   "metadata": {},
   "source": [
    "Дисперсия и стандартное отклонение оценок пользователей жанра Sports больше, чем жанра Action. То есть в Sports значения пользовательского рейтинга относительно среднего разбросаны сильнее.\n",
    "\n",
    "Построим гистограмму, чтобы посмотреть, как распределились значения пользовательского рейтинга по двум жанрам:"
   ]
  },
  {
   "cell_type": "code",
   "execution_count": 41,
   "metadata": {},
   "outputs": [
    {
     "data": {
      "image/png": "[encoded data removed]",
      "text/plain": [
       "<Figure size 576x360 with 1 Axes>"
      ]
     },
     "metadata": {
      "needs_background": "light"
     },
     "output_type": "display_data"
    }
   ],
   "source": [
    "#построим общую гистограмму, установим прозрачность = 0,4\n",
    "action_score.plot(kind='hist', label='Action', alpha=0.4)\n",
    "sports_score.plot(kind='hist', label='Sports', alpha=0.4, figsize=(8, 5))\n",
    "plt.title('Распределение пользовательских рейтингов жанров Action и Sports')\n",
    "plt.legend()\n",
    "plt.ylabel('Частотность')\n",
    "plt.xlabel('Оценки пользователей')\n",
    "plt.show()"
   ]
  },
  {
   "cell_type": "markdown",
   "metadata": {},
   "source": [
    "Пользователи играм жанра Action чаще ставят оценку 7,5. График по этому жанру ассиметричный, скошенный влево. На графике по жанру Sports нет ярко выраженных пиков, оценки распределены практически равномерно. Тем не менее, самая распространенная оценка в диапазоне от 5,1 до 5,8. Гистограмма тоже ассиметричная, со скошенным влево набором данных. \n",
    "\n",
    "Проведем тест Левена и выясним, равны ли дисперсии выборок по жанрам:"
   ]
  },
  {
   "cell_type": "code",
   "execution_count": 42,
   "metadata": {},
   "outputs": [
    {
     "name": "stdout",
     "output_type": "stream",
     "text": [
      "p-value: 3.7944810319036717e-06\n",
      "Дисперсии не равны\n"
     ]
    }
   ],
   "source": [
    "#уровень статистической значимости = 5 %\n",
    "alpha = 0.05\n",
    "#проведем тест Левена и вычислим значение р\n",
    "stat, p = levene(action_score, sports_score)\n",
    "print('p-value:', p)\n",
    "\n",
    "#если значение р меньше 5 %, то дисперсии не равны\n",
    "if p < alpha:\n",
    "    print('Дисперсии не равны')\n",
    "else:\n",
    "    print('Дисперсии равны')"
   ]
  },
  {
   "cell_type": "markdown",
   "metadata": {},
   "source": [
    "Значение *p* приближено нулю, то есть меньше уровня статистической значимости в 5 %. Дисперсии двух выборок не равны. \n",
    "\n",
    "Проведем t-тест, чтобы проверить гипотезы и выяснить, равны ли средние значения пользовательских рейтингов жанров Action и Sports. Критический уровень статистической значимости снова определим в 0,05. Зададим параметр *equal_var = False*, так как тест Левена показал, что дисперсии выборок не равны. "
   ]
  },
  {
   "cell_type": "code",
   "execution_count": 43,
   "metadata": {},
   "outputs": [
    {
     "name": "stdout",
     "output_type": "stream",
     "text": [
      "p-value: 3.5076737062533683e-19\n",
      "Отвергаем нулевую гипотезу, средние значения не равны\n"
     ]
    }
   ],
   "source": [
    "alpha = 0.05\n",
    "#в переменной сохраним результаты t-теста, первый массив с данными по платформе XOne, второй - PC\n",
    "genre_result = st.ttest_ind(action_score, sports_score, equal_var=False)\n",
    "#выведем значение p\n",
    "print('p-value:', genre_result.pvalue)\n",
    "\n",
    "#если значение р меньше 5 %, то отвергаем нулевую гипотезу\n",
    "if genre_result.pvalue < alpha:\n",
    "    print('Отвергаем нулевую гипотезу, средние значения не равны')\n",
    "else:\n",
    "    print('Не отвергаем нулевую гипотезу')"
   ]
  },
  {
   "cell_type": "markdown",
   "metadata": {},
   "source": [
    "**Вывод**\n",
    "\n",
    "*р*-значение практически равно нулю и меньше уровня статистической значимости. Это позволяет нам отвергнуть нулевую гипотезу: в генеральной совокупности средние значения пользовательских рейтингов жанров Action и Sports различаются."
   ]
  },
  {
   "cell_type": "markdown",
   "metadata": {},
   "source": [
    "## Общий вывод"
   ]
  },
  {
   "cell_type": "markdown",
   "metadata": {},
   "source": [
    "Перед нами стояла задача выявить закономерности, определяющие успешность компьютерной игры. Они необходимы для того, чтобы спланировать рекламную кампанию интернет-магазина на 2017 год. В нашем распоряжении были данные до 2016 года о продажах игр, платформах и жанрах, оценках пользователей и критиков. \n",
    "\n",
    "В ходе исследования мы установили, что средняя «продолжительность жизни» платформы составляет примерно 10 лет. Пика они достигают в первые пять лет, во второй половине наблюдается постепенный спад. Мы пришли к выводу, что для прогнозирования потенциально успешных платформ нам нужно брать в расчет только те, которые были выпущены не ранее 2013 года. Так мы определили три потенциально популярные платформы — PS4, Xbox One и 3DS. \n",
    "\n",
    "Мы установили, что на продажи игр не влияет пользовательский рейтинг. Но между оценками критиков и объемом продаж существует небольшая прямая зависимость. Также мы провели статистические тесты и определили, что средние значения пользовательских рейтингов платформ XOne и PC в генеральной совокупности, скорее всего, близки по значению. А также установили, что средние оценки пользователей игр в жанрах Action и Sports различаются.\n",
    "\n",
    "На успешность игры также влияет регион продажи. В Северной Америке и Европе популярностью пользуются одни и те же платформы, большую долю общих продаж имеет PS4. Лидирующими жанрами в этих регионах являются Action и Shooter. Наиболее популярны игры для взрослых, с рейтингом «М» — от 17 лет и старше. Япония же кардинально отличается от Америки и Европы. Здесь самая продаваемая платформа 3DS от японской компании Nintendo, самый популярный жанр — Role-Playing. Лучше других продаются игры без рейтинга от ESRB, потому как эта компания определяет рейтинг только тех игр, которые продаются на территории Северной Америки. В Японии существует своя организация, выставляющая играм рейтинги — CERO."
   ]
  }
 ],
 "metadata": {
  "kernelspec": {
   "display_name": "Python 3",
   "language": "python",
   "name": "python3"
  },
  "language_info": {
   "codemirror_mode": {
    "name": "ipython",
    "version": 3
   },
   "file_extension": ".py",
   "mimetype": "text/x-python",
   "name": "python",
   "nbconvert_exporter": "python",
   "pygments_lexer": "ipython3",
   "version": "3.7.8"
  },
  "toc": {
   "base_numbering": 1,
   "nav_menu": {},
   "number_sections": true,
   "sideBar": true,
   "skip_h1_title": true,
   "title_cell": "Table of Contents",
   "title_sidebar": "Contents",
   "toc_cell": false,
   "toc_position": {
    "height": "calc(100% - 180px)",
    "left": "10px",
    "top": "150px",
    "width": "366.391px"
   },
   "toc_section_display": true,
   "toc_window_display": true
  }
 },
 "nbformat": 4,
 "nbformat_minor": 2
}
